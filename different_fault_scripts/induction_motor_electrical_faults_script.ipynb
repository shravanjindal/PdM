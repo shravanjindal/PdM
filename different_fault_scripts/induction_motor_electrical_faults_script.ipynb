{
  "cells": [
    {
      "cell_type": "markdown",
      "metadata": {
        "id": "wVmcaImkTzJb"
      },
      "source": [
        "# **Predictive Maintenance of Machines**"
      ]
    },
    {
      "cell_type": "code",
      "execution_count": 1,
      "metadata": {
        "id": "IEfOcbs3QfqO"
      },
      "outputs": [],
      "source": [
        "import numpy as np\n",
        "import pandas as pd\n",
        "import matplotlib.pyplot as plt\n",
        "\n",
        "import pathlib\n",
        "import os"
      ]
    },
    {
      "cell_type": "code",
      "execution_count": 5,
      "metadata": {
        "id": "RgDm-FrEQltc"
      },
      "outputs": [],
      "source": [
        "data_dir = '../induction_motor_electrical_faults/'"
      ]
    },
    {
      "cell_type": "code",
      "execution_count": 6,
      "metadata": {
        "colab": {
          "base_uri": "https://localhost:8080/"
        },
        "id": "w-jq7LwnRRW8",
        "outputId": "91598a4c-fb16-4dc6-ec1e-66ae2c628361"
      },
      "outputs": [
        {
          "data": {
            "text/plain": [
              "PosixPath('../induction_motor_electrical_faults')"
            ]
          },
          "execution_count": 6,
          "metadata": {},
          "output_type": "execute_result"
        }
      ],
      "source": [
        "data_dir = pathlib.Path(data_dir)\n",
        "data_dir"
      ]
    },
    {
      "cell_type": "code",
      "execution_count": 8,
      "metadata": {
        "colab": {
          "base_uri": "https://localhost:8080/"
        },
        "id": "ns0eyEYcRWjm",
        "outputId": "5837534d-21c9-4eed-bb49-99100281f2e4"
      },
      "outputs": [
        {
          "data": {
            "text/plain": [
              "[PosixPath('../induction_motor_electrical_faults/z_induction_motor_fault.txt'),\n",
              " PosixPath('../induction_motor_electrical_faults/z_induction_motor.txt'),\n",
              " PosixPath('../induction_motor_electrical_faults/y_induction_motor_fault.txt'),\n",
              " PosixPath('../induction_motor_electrical_faults/y_induction_motor.txt'),\n",
              " PosixPath('../induction_motor_electrical_faults/x_induction_motor_fault.txt'),\n",
              " PosixPath('../induction_motor_electrical_faults/x_induction_motor.txt')]"
            ]
          },
          "execution_count": 8,
          "metadata": {},
          "output_type": "execute_result"
        }
      ],
      "source": [
        "files = list(data_dir.glob(\"*\"))\n",
        "files"
      ]
    },
    {
      "cell_type": "code",
      "execution_count": 9,
      "metadata": {
        "colab": {
          "base_uri": "https://localhost:8080/"
        },
        "id": "tQvFmrzxRXpT",
        "outputId": "7de73b6b-7640-45d6-8989-9846860dc3f8"
      },
      "outputs": [
        {
          "data": {
            "text/plain": [
              "[PosixPath('../induction_motor_electrical_faults/z_induction_motor_fault.txt'),\n",
              " PosixPath('../induction_motor_electrical_faults/y_induction_motor_fault.txt'),\n",
              " PosixPath('../induction_motor_electrical_faults/x_induction_motor_fault.txt')]"
            ]
          },
          "execution_count": 9,
          "metadata": {},
          "output_type": "execute_result"
        }
      ],
      "source": [
        "faultyFiles = list(data_dir.glob(\"*fault.txt\"))\n",
        "faultyFiles"
      ]
    },
    {
      "cell_type": "code",
      "execution_count": null,
      "metadata": {
        "id": "092Xhp6jqxOr"
      },
      "outputs": [],
      "source": [
        "healthyFiles = files.copy()\n",
        "\n",
        "for item in faultyFiles:\n",
        "    if item in healthyFiles:\n",
        "      healthyFiles.remove(item)"
      ]
    },
    {
      "cell_type": "code",
      "execution_count": null,
      "metadata": {
        "colab": {
          "base_uri": "https://localhost:8080/"
        },
        "id": "VTkZL4wWRbLw",
        "outputId": "bf138ad8-6b20-438f-cd49-6d4c245f879a"
      },
      "outputs": [
        {
          "data": {
            "text/plain": [
              "[PosixPath('extracted_files/Data/z_induction_motor.txt'),\n",
              " PosixPath('extracted_files/Data/x_induction_motor.txt'),\n",
              " PosixPath('extracted_files/Data/y_induction_motor.txt')]"
            ]
          },
          "execution_count": 8,
          "metadata": {},
          "output_type": "execute_result"
        }
      ],
      "source": [
        "healthyFiles"
      ]
    },
    {
      "cell_type": "markdown",
      "metadata": {
        "id": "QfP0H7BCUHgE"
      },
      "source": [
        "## Opening the files"
      ]
    },
    {
      "cell_type": "code",
      "execution_count": null,
      "metadata": {
        "id": "Z2xWaa02Rdym"
      },
      "outputs": [],
      "source": [
        "def read_data(data):\n",
        "    for i in range(3):\n",
        "        df = open(data[i], \"r\")\n",
        "        lines = df.readlines()\n",
        "        df.close()\n",
        "        # remove /n at the end of each line\n",
        "        for index, line in enumerate(lines):\n",
        "            lines[index] = line.strip()\n",
        "        yield np.array(lines).astype(np.float32)"
      ]
    },
    {
      "cell_type": "code",
      "execution_count": null,
      "metadata": {
        "id": "MNlAc63OuRvx"
      },
      "outputs": [],
      "source": []
    },
    {
      "cell_type": "code",
      "execution_count": null,
      "metadata": {
        "id": "jBWFRuhORfum"
      },
      "outputs": [],
      "source": [
        "zh,yh,xh = read_data(healthyFiles)\n",
        "xf,zf,yf = read_data(faultyFiles)"
      ]
    },
    {
      "cell_type": "code",
      "execution_count": null,
      "metadata": {
        "colab": {
          "base_uri": "https://localhost:8080/"
        },
        "id": "drANAvUdbLvM",
        "outputId": "169ec678-fdba-44bf-8a01-2e007a2e52c8"
      },
      "outputs": [
        {
          "data": {
            "text/plain": [
              "array([0.9375, 0.9375, 0.9375, ..., 0.625 , 0.625 , 0.625 ], dtype=float32)"
            ]
          },
          "execution_count": 11,
          "metadata": {},
          "output_type": "execute_result"
        }
      ],
      "source": [
        "xh"
      ]
    },
    {
      "cell_type": "code",
      "execution_count": null,
      "metadata": {
        "colab": {
          "base_uri": "https://localhost:8080/"
        },
        "id": "P__-HmuIe_eH",
        "outputId": "1cbf428b-bcae-454c-8e43-ce2ff820e44e"
      },
      "outputs": [
        {
          "data": {
            "text/plain": [
              "array([-9.375, -9.375, -9.375, ..., -8.75 , -8.75 , -9.375], dtype=float32)"
            ]
          },
          "execution_count": 12,
          "metadata": {},
          "output_type": "execute_result"
        }
      ],
      "source": [
        "xf"
      ]
    },
    {
      "cell_type": "code",
      "execution_count": null,
      "metadata": {
        "id": "VEY2CwygRj9S"
      },
      "outputs": [],
      "source": [
        "healthy_col = [xh,yh,zh]\n",
        "fault_col = [xf, yf, zf]"
      ]
    },
    {
      "cell_type": "code",
      "execution_count": null,
      "metadata": {
        "id": "KocjAh-URlvt"
      },
      "outputs": [],
      "source": [
        "def make_df(list):\n",
        "    df = pd.DataFrame()\n",
        "    df['x'] = list[0]\n",
        "    df['y'] = list[1]\n",
        "    df['z'] = list[2]\n",
        "    return df"
      ]
    },
    {
      "cell_type": "code",
      "execution_count": null,
      "metadata": {
        "id": "tDA6JiAERofY"
      },
      "outputs": [],
      "source": [
        "healthyData = make_df(healthy_col)\n",
        "faultyData = make_df(fault_col)"
      ]
    },
    {
      "cell_type": "code",
      "execution_count": null,
      "metadata": {
        "colab": {
          "base_uri": "https://localhost:8080/"
        },
        "id": "eEF0NEYNRqSX",
        "outputId": "3684bdbb-74a8-45c0-9d9b-093397e2be76"
      },
      "outputs": [
        {
          "data": {
            "text/plain": [
              "(136272, 3)"
            ]
          },
          "execution_count": 16,
          "metadata": {},
          "output_type": "execute_result"
        }
      ],
      "source": [
        "healthyData.shape"
      ]
    },
    {
      "cell_type": "code",
      "execution_count": null,
      "metadata": {
        "colab": {
          "base_uri": "https://localhost:8080/",
          "height": 300
        },
        "id": "Fsk-EaquRr15",
        "outputId": "6b38d101-406e-48fa-b3f7-c894f341e325"
      },
      "outputs": [
        {
          "data": {
            "application/vnd.google.colaboratory.intrinsic+json": {
              "summary": "{\n  \"name\": \"healthyData\",\n  \"rows\": 8,\n  \"fields\": [\n    {\n      \"column\": \"x\",\n      \"properties\": {\n        \"dtype\": \"number\",\n        \"std\": 48126.988348382714,\n        \"min\": -10.3125,\n        \"max\": 136272.0,\n        \"num_unique_values\": 7,\n        \"samples\": [\n          136272.0,\n          -9.16313648223877,\n          -9.0625\n        ],\n        \"semantic_type\": \"\",\n        \"description\": \"\"\n      }\n    },\n    {\n      \"column\": \"y\",\n      \"properties\": {\n        \"dtype\": \"number\",\n        \"std\": 47685.299829926946,\n        \"min\": -9.6875,\n        \"max\": 136272.0,\n        \"num_unique_values\": 6,\n        \"samples\": [\n          136272.0,\n          1.0856435298919678,\n          18070.625\n        ],\n        \"semantic_type\": \"\",\n        \"description\": \"\"\n      }\n    },\n    {\n      \"column\": \"z\",\n      \"properties\": {\n        \"dtype\": \"number\",\n        \"std\": 47685.21046404045,\n        \"min\": -10.0,\n        \"max\": 136272.0,\n        \"num_unique_values\": 7,\n        \"samples\": [\n          136272.0,\n          0.3422658443450928,\n          0.3125\n        ],\n        \"semantic_type\": \"\",\n        \"description\": \"\"\n      }\n    }\n  ]\n}",
              "type": "dataframe"
            },
            "text/html": [
              "\n",
              "  <div id=\"df-4e8aac88-be3f-43c5-a61a-a359d0adbcf8\" class=\"colab-df-container\">\n",
              "    <div>\n",
              "<style scoped>\n",
              "    .dataframe tbody tr th:only-of-type {\n",
              "        vertical-align: middle;\n",
              "    }\n",
              "\n",
              "    .dataframe tbody tr th {\n",
              "        vertical-align: top;\n",
              "    }\n",
              "\n",
              "    .dataframe thead th {\n",
              "        text-align: right;\n",
              "    }\n",
              "</style>\n",
              "<table border=\"1\" class=\"dataframe\">\n",
              "  <thead>\n",
              "    <tr style=\"text-align: right;\">\n",
              "      <th></th>\n",
              "      <th>x</th>\n",
              "      <th>y</th>\n",
              "      <th>z</th>\n",
              "    </tr>\n",
              "  </thead>\n",
              "  <tbody>\n",
              "    <tr>\n",
              "      <th>count</th>\n",
              "      <td>136272.000000</td>\n",
              "      <td>136272.000000</td>\n",
              "      <td>136272.000000</td>\n",
              "    </tr>\n",
              "    <tr>\n",
              "      <th>mean</th>\n",
              "      <td>-9.163136</td>\n",
              "      <td>1.085644</td>\n",
              "      <td>0.342266</td>\n",
              "    </tr>\n",
              "    <tr>\n",
              "      <th>std</th>\n",
              "      <td>6.073324</td>\n",
              "      <td>49.518223</td>\n",
              "      <td>49.345814</td>\n",
              "    </tr>\n",
              "    <tr>\n",
              "      <th>min</th>\n",
              "      <td>-10.312500</td>\n",
              "      <td>-9.687500</td>\n",
              "      <td>-10.000000</td>\n",
              "    </tr>\n",
              "    <tr>\n",
              "      <th>25%</th>\n",
              "      <td>-9.375000</td>\n",
              "      <td>0.937500</td>\n",
              "      <td>0.000000</td>\n",
              "    </tr>\n",
              "    <tr>\n",
              "      <th>50%</th>\n",
              "      <td>-9.375000</td>\n",
              "      <td>0.937500</td>\n",
              "      <td>0.312500</td>\n",
              "    </tr>\n",
              "    <tr>\n",
              "      <th>75%</th>\n",
              "      <td>-9.062500</td>\n",
              "      <td>0.937500</td>\n",
              "      <td>0.312500</td>\n",
              "    </tr>\n",
              "    <tr>\n",
              "      <th>max</th>\n",
              "      <td>1110.937500</td>\n",
              "      <td>18070.625000</td>\n",
              "      <td>18150.937500</td>\n",
              "    </tr>\n",
              "  </tbody>\n",
              "</table>\n",
              "</div>\n",
              "    <div class=\"colab-df-buttons\">\n",
              "\n",
              "  <div class=\"colab-df-container\">\n",
              "    <button class=\"colab-df-convert\" onclick=\"convertToInteractive('df-4e8aac88-be3f-43c5-a61a-a359d0adbcf8')\"\n",
              "            title=\"Convert this dataframe to an interactive table.\"\n",
              "            style=\"display:none;\">\n",
              "\n",
              "  <svg xmlns=\"http://www.w3.org/2000/svg\" height=\"24px\" viewBox=\"0 -960 960 960\">\n",
              "    <path d=\"M120-120v-720h720v720H120Zm60-500h600v-160H180v160Zm220 220h160v-160H400v160Zm0 220h160v-160H400v160ZM180-400h160v-160H180v160Zm440 0h160v-160H620v160ZM180-180h160v-160H180v160Zm440 0h160v-160H620v160Z\"/>\n",
              "  </svg>\n",
              "    </button>\n",
              "\n",
              "  <style>\n",
              "    .colab-df-container {\n",
              "      display:flex;\n",
              "      gap: 12px;\n",
              "    }\n",
              "\n",
              "    .colab-df-convert {\n",
              "      background-color: #E8F0FE;\n",
              "      border: none;\n",
              "      border-radius: 50%;\n",
              "      cursor: pointer;\n",
              "      display: none;\n",
              "      fill: #1967D2;\n",
              "      height: 32px;\n",
              "      padding: 0 0 0 0;\n",
              "      width: 32px;\n",
              "    }\n",
              "\n",
              "    .colab-df-convert:hover {\n",
              "      background-color: #E2EBFA;\n",
              "      box-shadow: 0px 1px 2px rgba(60, 64, 67, 0.3), 0px 1px 3px 1px rgba(60, 64, 67, 0.15);\n",
              "      fill: #174EA6;\n",
              "    }\n",
              "\n",
              "    .colab-df-buttons div {\n",
              "      margin-bottom: 4px;\n",
              "    }\n",
              "\n",
              "    [theme=dark] .colab-df-convert {\n",
              "      background-color: #3B4455;\n",
              "      fill: #D2E3FC;\n",
              "    }\n",
              "\n",
              "    [theme=dark] .colab-df-convert:hover {\n",
              "      background-color: #434B5C;\n",
              "      box-shadow: 0px 1px 3px 1px rgba(0, 0, 0, 0.15);\n",
              "      filter: drop-shadow(0px 1px 2px rgba(0, 0, 0, 0.3));\n",
              "      fill: #FFFFFF;\n",
              "    }\n",
              "  </style>\n",
              "\n",
              "    <script>\n",
              "      const buttonEl =\n",
              "        document.querySelector('#df-4e8aac88-be3f-43c5-a61a-a359d0adbcf8 button.colab-df-convert');\n",
              "      buttonEl.style.display =\n",
              "        google.colab.kernel.accessAllowed ? 'block' : 'none';\n",
              "\n",
              "      async function convertToInteractive(key) {\n",
              "        const element = document.querySelector('#df-4e8aac88-be3f-43c5-a61a-a359d0adbcf8');\n",
              "        const dataTable =\n",
              "          await google.colab.kernel.invokeFunction('convertToInteractive',\n",
              "                                                    [key], {});\n",
              "        if (!dataTable) return;\n",
              "\n",
              "        const docLinkHtml = 'Like what you see? Visit the ' +\n",
              "          '<a target=\"_blank\" href=https://colab.research.google.com/notebooks/data_table.ipynb>data table notebook</a>'\n",
              "          + ' to learn more about interactive tables.';\n",
              "        element.innerHTML = '';\n",
              "        dataTable['output_type'] = 'display_data';\n",
              "        await google.colab.output.renderOutput(dataTable, element);\n",
              "        const docLink = document.createElement('div');\n",
              "        docLink.innerHTML = docLinkHtml;\n",
              "        element.appendChild(docLink);\n",
              "      }\n",
              "    </script>\n",
              "  </div>\n",
              "\n",
              "\n",
              "<div id=\"df-d1a30db9-c4b4-42c5-aa0b-0f69d4adab8a\">\n",
              "  <button class=\"colab-df-quickchart\" onclick=\"quickchart('df-d1a30db9-c4b4-42c5-aa0b-0f69d4adab8a')\"\n",
              "            title=\"Suggest charts\"\n",
              "            style=\"display:none;\">\n",
              "\n",
              "<svg xmlns=\"http://www.w3.org/2000/svg\" height=\"24px\"viewBox=\"0 0 24 24\"\n",
              "     width=\"24px\">\n",
              "    <g>\n",
              "        <path d=\"M19 3H5c-1.1 0-2 .9-2 2v14c0 1.1.9 2 2 2h14c1.1 0 2-.9 2-2V5c0-1.1-.9-2-2-2zM9 17H7v-7h2v7zm4 0h-2V7h2v10zm4 0h-2v-4h2v4z\"/>\n",
              "    </g>\n",
              "</svg>\n",
              "  </button>\n",
              "\n",
              "<style>\n",
              "  .colab-df-quickchart {\n",
              "      --bg-color: #E8F0FE;\n",
              "      --fill-color: #1967D2;\n",
              "      --hover-bg-color: #E2EBFA;\n",
              "      --hover-fill-color: #174EA6;\n",
              "      --disabled-fill-color: #AAA;\n",
              "      --disabled-bg-color: #DDD;\n",
              "  }\n",
              "\n",
              "  [theme=dark] .colab-df-quickchart {\n",
              "      --bg-color: #3B4455;\n",
              "      --fill-color: #D2E3FC;\n",
              "      --hover-bg-color: #434B5C;\n",
              "      --hover-fill-color: #FFFFFF;\n",
              "      --disabled-bg-color: #3B4455;\n",
              "      --disabled-fill-color: #666;\n",
              "  }\n",
              "\n",
              "  .colab-df-quickchart {\n",
              "    background-color: var(--bg-color);\n",
              "    border: none;\n",
              "    border-radius: 50%;\n",
              "    cursor: pointer;\n",
              "    display: none;\n",
              "    fill: var(--fill-color);\n",
              "    height: 32px;\n",
              "    padding: 0;\n",
              "    width: 32px;\n",
              "  }\n",
              "\n",
              "  .colab-df-quickchart:hover {\n",
              "    background-color: var(--hover-bg-color);\n",
              "    box-shadow: 0 1px 2px rgba(60, 64, 67, 0.3), 0 1px 3px 1px rgba(60, 64, 67, 0.15);\n",
              "    fill: var(--button-hover-fill-color);\n",
              "  }\n",
              "\n",
              "  .colab-df-quickchart-complete:disabled,\n",
              "  .colab-df-quickchart-complete:disabled:hover {\n",
              "    background-color: var(--disabled-bg-color);\n",
              "    fill: var(--disabled-fill-color);\n",
              "    box-shadow: none;\n",
              "  }\n",
              "\n",
              "  .colab-df-spinner {\n",
              "    border: 2px solid var(--fill-color);\n",
              "    border-color: transparent;\n",
              "    border-bottom-color: var(--fill-color);\n",
              "    animation:\n",
              "      spin 1s steps(1) infinite;\n",
              "  }\n",
              "\n",
              "  @keyframes spin {\n",
              "    0% {\n",
              "      border-color: transparent;\n",
              "      border-bottom-color: var(--fill-color);\n",
              "      border-left-color: var(--fill-color);\n",
              "    }\n",
              "    20% {\n",
              "      border-color: transparent;\n",
              "      border-left-color: var(--fill-color);\n",
              "      border-top-color: var(--fill-color);\n",
              "    }\n",
              "    30% {\n",
              "      border-color: transparent;\n",
              "      border-left-color: var(--fill-color);\n",
              "      border-top-color: var(--fill-color);\n",
              "      border-right-color: var(--fill-color);\n",
              "    }\n",
              "    40% {\n",
              "      border-color: transparent;\n",
              "      border-right-color: var(--fill-color);\n",
              "      border-top-color: var(--fill-color);\n",
              "    }\n",
              "    60% {\n",
              "      border-color: transparent;\n",
              "      border-right-color: var(--fill-color);\n",
              "    }\n",
              "    80% {\n",
              "      border-color: transparent;\n",
              "      border-right-color: var(--fill-color);\n",
              "      border-bottom-color: var(--fill-color);\n",
              "    }\n",
              "    90% {\n",
              "      border-color: transparent;\n",
              "      border-bottom-color: var(--fill-color);\n",
              "    }\n",
              "  }\n",
              "</style>\n",
              "\n",
              "  <script>\n",
              "    async function quickchart(key) {\n",
              "      const quickchartButtonEl =\n",
              "        document.querySelector('#' + key + ' button');\n",
              "      quickchartButtonEl.disabled = true;  // To prevent multiple clicks.\n",
              "      quickchartButtonEl.classList.add('colab-df-spinner');\n",
              "      try {\n",
              "        const charts = await google.colab.kernel.invokeFunction(\n",
              "            'suggestCharts', [key], {});\n",
              "      } catch (error) {\n",
              "        console.error('Error during call to suggestCharts:', error);\n",
              "      }\n",
              "      quickchartButtonEl.classList.remove('colab-df-spinner');\n",
              "      quickchartButtonEl.classList.add('colab-df-quickchart-complete');\n",
              "    }\n",
              "    (() => {\n",
              "      let quickchartButtonEl =\n",
              "        document.querySelector('#df-d1a30db9-c4b4-42c5-aa0b-0f69d4adab8a button');\n",
              "      quickchartButtonEl.style.display =\n",
              "        google.colab.kernel.accessAllowed ? 'block' : 'none';\n",
              "    })();\n",
              "  </script>\n",
              "</div>\n",
              "    </div>\n",
              "  </div>\n"
            ],
            "text/plain": [
              "                   x              y              z\n",
              "count  136272.000000  136272.000000  136272.000000\n",
              "mean       -9.163136       1.085644       0.342266\n",
              "std         6.073324      49.518223      49.345814\n",
              "min       -10.312500      -9.687500     -10.000000\n",
              "25%        -9.375000       0.937500       0.000000\n",
              "50%        -9.375000       0.937500       0.312500\n",
              "75%        -9.062500       0.937500       0.312500\n",
              "max      1110.937500   18070.625000   18150.937500"
            ]
          },
          "execution_count": 17,
          "metadata": {},
          "output_type": "execute_result"
        }
      ],
      "source": [
        "healthyData.describe()"
      ]
    },
    {
      "cell_type": "markdown",
      "metadata": {
        "id": "balg53uZUNwQ"
      },
      "source": [
        "## Finding peaks"
      ]
    },
    {
      "cell_type": "code",
      "execution_count": null,
      "metadata": {
        "id": "Yh3XZWoXRtuQ"
      },
      "outputs": [],
      "source": [
        "def find_peaks(data,height):\n",
        "    peaks = []\n",
        "    for i in range(len(data)):\n",
        "        if(data[i]>height):\n",
        "            peaks.append(i)\n",
        "    return peaks"
      ]
    },
    {
      "cell_type": "code",
      "execution_count": null,
      "metadata": {
        "colab": {
          "base_uri": "https://localhost:8080/"
        },
        "id": "DVwUFs1fRwJG",
        "outputId": "b9e6b928-bebd-4376-86d5-9ed6919f741d"
      },
      "outputs": [
        {
          "data": {
            "text/plain": [
              "655"
            ]
          },
          "execution_count": 19,
          "metadata": {},
          "output_type": "execute_result"
        }
      ],
      "source": [
        "peaks=find_peaks(healthyData['x'], -8) # this threshold is chosen after plotting the data\n",
        "len(peaks)"
      ]
    },
    {
      "cell_type": "code",
      "execution_count": null,
      "metadata": {
        "id": "DXDAsZBMRx1m"
      },
      "outputs": [],
      "source": [
        "healthyData_filtered = healthyData.drop(peaks).reset_index(drop=True)"
      ]
    },
    {
      "cell_type": "code",
      "execution_count": null,
      "metadata": {
        "colab": {
          "base_uri": "https://localhost:8080/"
        },
        "id": "c4brXMYzR0Di",
        "outputId": "cfc5695e-88d4-44d7-b6b0-0313bfb8623b"
      },
      "outputs": [
        {
          "data": {
            "text/plain": [
              "[]"
            ]
          },
          "execution_count": 21,
          "metadata": {},
          "output_type": "execute_result"
        }
      ],
      "source": [
        "# check if the peaks are removed\n",
        "peaks_ = find_peaks(healthyData_filtered['x'],6)\n",
        "peaks_"
      ]
    },
    {
      "cell_type": "code",
      "execution_count": null,
      "metadata": {
        "colab": {
          "base_uri": "https://localhost:8080/",
          "height": 448
        },
        "id": "6C4C5DorR1po",
        "outputId": "86edd534-d926-4fcc-e77e-ceef84762f52"
      },
      "outputs": [
        {
          "data": {
            "text/plain": [
              "[<matplotlib.lines.Line2D at 0x7a95842caa40>]"
            ]
          },
          "execution_count": 22,
          "metadata": {},
          "output_type": "execute_result"
        },
        {
          "data": {
            "image/png": "[encoded data removed]",
            "text/plain": [
              "<Figure size 640x480 with 1 Axes>"
            ]
          },
          "metadata": {},
          "output_type": "display_data"
        }
      ],
      "source": [
        "plt.plot(healthyData_filtered['x'])"
      ]
    },
    {
      "cell_type": "code",
      "execution_count": null,
      "metadata": {
        "colab": {
          "base_uri": "https://localhost:8080/",
          "height": 448
        },
        "id": "QOjijnZYR303",
        "outputId": "d0bd15f9-feb9-4fb8-86a8-6c29510ecdac"
      },
      "outputs": [
        {
          "data": {
            "text/plain": [
              "[<matplotlib.lines.Line2D at 0x7a9584411300>]"
            ]
          },
          "execution_count": 23,
          "metadata": {},
          "output_type": "execute_result"
        },
        {
          "data": {
            "image/png": "[encoded data removed]",
            "text/plain": [
              "<Figure size 640x480 with 1 Axes>"
            ]
          },
          "metadata": {},
          "output_type": "display_data"
        }
      ],
      "source": [
        "plt.plot(faultyData['x'])"
      ]
    },
    {
      "cell_type": "code",
      "execution_count": null,
      "metadata": {
        "colab": {
          "base_uri": "https://localhost:8080/"
        },
        "id": "aoQ6PTqPR_Uo",
        "outputId": "c9f948ca-b53f-49d2-c638-1b7cda30ba55"
      },
      "outputs": [
        {
          "data": {
            "text/plain": [
              "370"
            ]
          },
          "execution_count": 24,
          "metadata": {},
          "output_type": "execute_result"
        }
      ],
      "source": [
        "peaks=find_peaks(faultyData['x'], -6)\n",
        "len(peaks)"
      ]
    },
    {
      "cell_type": "code",
      "execution_count": null,
      "metadata": {
        "id": "utIjKyX4SMCD"
      },
      "outputs": [],
      "source": [
        "faultyData = faultyData.drop(peaks).reset_index(drop=True)"
      ]
    },
    {
      "cell_type": "code",
      "execution_count": null,
      "metadata": {
        "colab": {
          "base_uri": "https://localhost:8080/"
        },
        "id": "f_AB6FbpSPI9",
        "outputId": "ae4c2ef7-d493-49c0-98c0-d656dc564910"
      },
      "outputs": [
        {
          "name": "stdout",
          "output_type": "stream",
          "text": [
            "(135617, 3) (202664, 3)\n"
          ]
        }
      ],
      "source": [
        "print(healthyData_filtered.shape , faultyData.shape)"
      ]
    },
    {
      "cell_type": "code",
      "execution_count": null,
      "metadata": {
        "colab": {
          "base_uri": "https://localhost:8080/",
          "height": 448
        },
        "id": "UnOMzpt1SSRr",
        "outputId": "7c2807bc-6e8c-4b22-fdc2-eb861a0bf55d"
      },
      "outputs": [
        {
          "data": {
            "text/plain": [
              "[<matplotlib.lines.Line2D at 0x7a957d3d0c40>]"
            ]
          },
          "execution_count": 27,
          "metadata": {},
          "output_type": "execute_result"
        },
        {
          "data": {
            "image/png": "[encoded data removed]",
            "text/plain": [
              "<Figure size 640x480 with 1 Axes>"
            ]
          },
          "metadata": {},
          "output_type": "display_data"
        }
      ],
      "source": [
        "plt.plot(faultyData['x'])\n",
        "plt.plot(healthyData_filtered['x'])"
      ]
    },
    {
      "cell_type": "markdown",
      "metadata": {
        "id": "-vDILZS6Ug7w"
      },
      "source": [
        "we can see that faulty data has vibrations of higher amplitude than healthy data. We can directly take the statistical features and input in model, it will easily understand."
      ]
    },
    {
      "cell_type": "code",
      "execution_count": null,
      "metadata": {
        "id": "sE4fHResSTon"
      },
      "outputs": [],
      "source": [
        "# sampling rate = 1kHz = 1000\n",
        "# This implies that 1000 samples were taken in 1 sec\n",
        "# This implies 1 sample in 1 ms"
      ]
    },
    {
      "cell_type": "markdown",
      "metadata": {
        "id": "--Zd0RatU1nT"
      },
      "source": [
        "## Sliding Window Data"
      ]
    },
    {
      "cell_type": "code",
      "execution_count": null,
      "metadata": {
        "id": "3czL7JHNSW0h"
      },
      "outputs": [],
      "source": [
        "def prepare_data(data, duration, overlap):\n",
        "    X = []\n",
        "    window_size = duration  # Assuming 1 sample per millisecond\n",
        "    step_size = int(window_size * (1 - overlap))  # Calculate step size based on overlap\n",
        "\n",
        "    for start in range(0, len(data) - window_size + 1, step_size):\n",
        "        window = data[start:start + window_size]\n",
        "        X.append(window)\n",
        "\n",
        "    return X"
      ]
    },
    {
      "cell_type": "markdown",
      "metadata": {
        "id": "ebphp3wfVAZd"
      },
      "source": [
        "## Dividing into Train and Test set"
      ]
    },
    {
      "cell_type": "code",
      "execution_count": null,
      "metadata": {
        "colab": {
          "base_uri": "https://localhost:8080/"
        },
        "id": "y_vi64HgSYnN",
        "outputId": "a054f0c1-59dc-48a4-f574-2104aa80dfa2"
      },
      "outputs": [
        {
          "name": "stdout",
          "output_type": "stream",
          "text": [
            "108493.6 162131.2\n"
          ]
        }
      ],
      "source": [
        "print(healthyData_filtered.shape[0]*0.8, faultyData.shape[0]*0.8)"
      ]
    },
    {
      "cell_type": "code",
      "execution_count": null,
      "metadata": {
        "id": "iBk4zaT1ShL1"
      },
      "outputs": [],
      "source": [
        "healthyTrainData = healthyData_filtered[:108493]\n",
        "healthyTestData = healthyData_filtered[108493:]\n",
        "\n",
        "faultyTrainData = faultyData[:162131]\n",
        "faultyTestData = faultyData[162131:]"
      ]
    },
    {
      "cell_type": "code",
      "execution_count": null,
      "metadata": {
        "id": "mRR9o-TnSmWS"
      },
      "outputs": [],
      "source": [
        "xhTrain = prepare_data(healthyTrainData['x'],2000, 0.25)\n",
        "xhTest = prepare_data(healthyTestData['x'],2000, 0.25)\n",
        "xfTrain = prepare_data(faultyTrainData['x'], 2000, 0.25)\n",
        "xfTest = prepare_data(faultyTestData['x'],2000, 0.25)"
      ]
    },
    {
      "cell_type": "code",
      "execution_count": null,
      "metadata": {
        "colab": {
          "base_uri": "https://localhost:8080/"
        },
        "id": "kP7ROFrr6Aie",
        "outputId": "5bd6cf50-2883-4c55-c4b9-f02765582aae"
      },
      "outputs": [
        {
          "data": {
            "text/plain": [
              "107"
            ]
          },
          "execution_count": 41,
          "metadata": {},
          "output_type": "execute_result"
        }
      ],
      "source": [
        "len(xfTrain)"
      ]
    },
    {
      "cell_type": "code",
      "execution_count": null,
      "metadata": {
        "colab": {
          "base_uri": "https://localhost:8080/",
          "height": 448
        },
        "id": "rhPlcMmSSvbo",
        "outputId": "0b83bea5-778c-429a-a8f2-319908663026"
      },
      "outputs": [
        {
          "data": {
            "text/plain": [
              "[<matplotlib.lines.Line2D at 0x7a957d2b6c20>]"
            ]
          },
          "execution_count": 33,
          "metadata": {},
          "output_type": "execute_result"
        },
        {
          "data": {
            "image/png": "[encoded data removed]",
            "text/plain": [
              "<Figure size 640x480 with 1 Axes>"
            ]
          },
          "metadata": {},
          "output_type": "display_data"
        }
      ],
      "source": [
        "plt.plot(xfTrain[4][:100])\n",
        "plt.plot(xhTrain[4][:100])"
      ]
    },
    {
      "cell_type": "markdown",
      "metadata": {
        "id": "IOQ8dCcx4wIn"
      },
      "source": [
        "## Feature Extraction"
      ]
    },
    {
      "cell_type": "markdown",
      "metadata": {
        "id": "Og04QW5X41HO"
      },
      "source": [
        "mean <br>\n",
        "min<br>\n",
        "max<br>\n",
        "skewness<br>\n",
        "kurtosis<br>\n",
        "crest_factor<br>\n",
        "Energy<br>\n",
        "\n",
        "log-covariance features<br>\n",
        "Shannon entropy and log-energy entropy<br>\n",
        "FFT <br>"
      ]
    },
    {
      "cell_type": "code",
      "execution_count": null,
      "metadata": {
        "colab": {
          "base_uri": "https://localhost:8080/"
        },
        "id": "5_pP916I7xL6",
        "outputId": "11d00bb6-85ab-44cb-dfbd-bc61f4d00537"
      },
      "outputs": [
        {
          "data": {
            "text/plain": [
              "0      -9.3750\n",
              "1      -9.3750\n",
              "2      -9.0625\n",
              "3      -9.0625\n",
              "4      -9.0625\n",
              "         ...  \n",
              "1995   -9.3750\n",
              "1996   -9.3750\n",
              "1997   -9.0625\n",
              "1998   -9.3750\n",
              "1999   -9.0625\n",
              "Name: x, Length: 2000, dtype: float32"
            ]
          },
          "execution_count": 70,
          "metadata": {},
          "output_type": "execute_result"
        }
      ],
      "source": [
        "xhTrain[0]"
      ]
    },
    {
      "cell_type": "markdown",
      "metadata": {
        "id": "fCStpmODEJs7"
      },
      "source": [
        "### Statistical Features"
      ]
    },
    {
      "cell_type": "code",
      "execution_count": null,
      "metadata": {
        "id": "CQ_rOvrz9ZIB"
      },
      "outputs": [],
      "source": [
        "from scipy.stats import skew, kurtosis"
      ]
    },
    {
      "cell_type": "code",
      "execution_count": null,
      "metadata": {
        "id": "Tfls_YRP_wOR"
      },
      "outputs": [],
      "source": [
        "# statistical Features\n",
        "def extract_skewness(data):\n",
        "    skewness = []\n",
        "    for i in range(len(data)):\n",
        "      signal = np.array(data[i])\n",
        "      skewness.append(skew(signal))\n",
        "    return skewness\n",
        "def extract_kurtosis(data):\n",
        "    kurt = []\n",
        "    for i in range(len(data)):\n",
        "      signal = np.array(data[i])\n",
        "      value = kurtosis(signal)\n",
        "      kurt.append(value)\n",
        "    return kurt"
      ]
    },
    {
      "cell_type": "code",
      "execution_count": null,
      "metadata": {
        "id": "CB8dTEtdWRO3"
      },
      "outputs": [],
      "source": [
        "skewness = extract_skewness(xhTrain)\n",
        "kurt = extract_kurtosis(xhTrain)"
      ]
    },
    {
      "cell_type": "markdown",
      "metadata": {
        "id": "gJo1WMzrENTC"
      },
      "source": [
        "### Mean, min, max features - 30 features"
      ]
    },
    {
      "cell_type": "code",
      "execution_count": null,
      "metadata": {
        "id": "ieYmULmFAGkX"
      },
      "outputs": [],
      "source": [
        "# u1,u2,u3,u4, m1,m2,m3,m4, n1,n2,n3,n4 and there differences == total 30 features"
      ]
    },
    {
      "cell_type": "code",
      "execution_count": null,
      "metadata": {
        "id": "raW1TUVT_1fB"
      },
      "outputs": [],
      "source": [
        "# mean, min, max\n",
        "def extract_mean(data):\n",
        "    u1 = []\n",
        "    u2 = []\n",
        "    u3 = []\n",
        "    u4 = []\n",
        "    for i in data:\n",
        "      u1.append(np.array(i[:500]).mean())\n",
        "      u2.append(np.array(i[500:1000]).mean())\n",
        "      u3.append(np.array(i[1000:1500]).mean())\n",
        "      u4.append(np.array(i[1000:]).mean())\n",
        "    return np.array(u1),np.array(u2),np.array(u3),np.array(u4)\n",
        "def extract_max(data):\n",
        "    m1 = []\n",
        "    m2 = []\n",
        "    m3 = []\n",
        "    m4 = []\n",
        "    for i in data:\n",
        "      m1.append(np.array(i[:500]).max())\n",
        "      m2.append(np.array(i[500:1000]).max())\n",
        "      m3.append(np.array(i[1000:1500]).max())\n",
        "      m4.append(np.array(i[1000:]).max())\n",
        "    return np.array(m1),np.array(m2),np.array(m3),np.array(m4)\n",
        "def extract_min(data):\n",
        "    n1 = []\n",
        "    n2 = []\n",
        "    n3 = []\n",
        "    n4 = []\n",
        "    for i in data:\n",
        "      n1.append(np.array(i[:500]).min())\n",
        "      n2.append(np.array(i[500:1000]).min())\n",
        "      n3.append(np.array(i[1000:1500]).min())\n",
        "      n4.append(np.array(i[1000:]).min())\n",
        "    return np.array(n1),np.array(n2),np.array(n3),np.array(n4)\n",
        "def extract_diff(arr1,arr2,arr3,arr4):\n",
        "      return np.abs(arr1-arr2), np.abs(arr1-arr3), np.abs(arr1-arr4), np.abs(arr2-arr3), np.abs(arr2-arr4),np.abs(arr3-arr4),\n"
      ]
    },
    {
      "cell_type": "code",
      "execution_count": null,
      "metadata": {
        "id": "dR9-q8jQC2jA"
      },
      "outputs": [],
      "source": [
        "u1,u2,u3,u4 = extract_mean(xhTrain)\n",
        "m1,m2,m3,m4 = extract_max(xhTrain)\n",
        "n1,n2,n3,n4 = extract_min(xhTrain)\n",
        "ud1,ud2,ud3,ud4,ud5,ud6 = extract_diff(u1,u2,u3,u4)\n",
        "md1,md2,md3,md4,md5,md6 = extract_diff(m1,m2,m3,m4)\n",
        "nd1,nd2,nd3,nd4,nd5,nd6 = extract_diff(n1,n2,n3,n4)"
      ]
    },
    {
      "cell_type": "code",
      "execution_count": null,
      "metadata": {
        "id": "c4CLH7P4gK_M"
      },
      "outputs": [],
      "source": [
        "fu1,fu2,fu3,fu4 = extract_mean(xfTrain)\n",
        "fm1,fm2,fm3,fm4 = extract_max(xfTrain)\n",
        "fn1,fn2,fn3,fn4 = extract_min(xfTrain)\n",
        "fud1,fud2,fud3,fud4,fud5,fud6 = extract_diff(fu1,fu2,fu3,fu4)\n",
        "fmd1,fmd2,fmd3,fmd4,fmd5,fmd6 = extract_diff(fm1,fm2,fm3,fm4)\n",
        "fnd1,fnd2,fnd3,fnd4,fnd5,fnd6 = extract_diff(fn1,fn2,fn3,fn4)"
      ]
    },
    {
      "cell_type": "markdown",
      "metadata": {
        "id": "8o0IzL1BESwG"
      },
      "source": [
        "### Log-covariance features"
      ]
    },
    {
      "cell_type": "code",
      "execution_count": null,
      "metadata": {
        "colab": {
          "base_uri": "https://localhost:8080/"
        },
        "id": "XbumyoxFH2u6",
        "outputId": "b014b14e-d22b-4fd7-aab1-94311f45a973"
      },
      "outputs": [
        {
          "data": {
            "text/plain": [
              "array([-9.246875, -9.2475  , -9.260625, -9.2625  , -9.256875, -9.2675  ,\n",
              "       -9.26375 , -9.251875, -9.2425  , -9.256875, -9.2625  , -9.266875,\n",
              "       -9.264375, -9.255   , -9.240625, -9.2625  , -9.245625, -9.25375 ,\n",
              "       -9.261875, -9.2575  , -9.25    , -9.2525  , -9.255625, -9.243125,\n",
              "       -9.25375 , -9.259375, -9.261875, -9.256875, -9.2425  , -9.244375,\n",
              "       -9.23625 , -9.24875 , -9.26375 , -9.248125, -9.245   , -9.26    ,\n",
              "       -9.250625, -9.235   , -9.24    , -9.234375, -9.25125 , -9.23375 ,\n",
              "       -9.25125 , -9.2425  , -9.23375 , -9.235   , -9.2425  , -9.2475  ,\n",
              "       -9.254375, -9.246875, -9.22875 , -9.244375, -9.230625, -9.24    ,\n",
              "       -9.241875, -9.244375, -9.2525  , -9.233125, -9.245   , -9.250625,\n",
              "       -9.245625, -9.23    , -9.24125 , -9.24375 , -9.240625, -9.248125,\n",
              "       -9.2475  , -9.2425  , -9.24125 , -9.24875 , -9.234375],\n",
              "      dtype=float32)"
            ]
          },
          "execution_count": 108,
          "metadata": {},
          "output_type": "execute_result"
        }
      ],
      "source": [
        "u1"
      ]
    },
    {
      "cell_type": "code",
      "execution_count": null,
      "metadata": {
        "id": "1Oktc4yGFZNN"
      },
      "outputs": [],
      "source": [
        "def extract_feature_25(u1,u2,u3,u4,m1,m2,m3,m4,n1,n2,n3,n4,ud1,ud2,ud3,ud4,ud5,ud6,md1,md2,md3,md5,nd1,nd3,nd5):\n",
        "  features_25 = []\n",
        "  for i in range(len(u1)):\n",
        "    feature_vector = []\n",
        "    feature_vector.append(u1[i])\n",
        "    feature_vector.append(u2[i])\n",
        "    feature_vector.append(u3[i])\n",
        "    feature_vector.append(u4[i])\n",
        "    feature_vector.append(m1[i])\n",
        "    feature_vector.append(m2[i])\n",
        "    feature_vector.append(m3[i])\n",
        "    feature_vector.append(m4[i])\n",
        "    feature_vector.append(n1[i])\n",
        "    feature_vector.append(n2[i])\n",
        "    feature_vector.append(n3[i])\n",
        "    feature_vector.append(n4[i])\n",
        "    feature_vector.append(ud1[i])\n",
        "    feature_vector.append(ud2[i])\n",
        "    feature_vector.append(ud3[i])\n",
        "    feature_vector.append(ud4[i])\n",
        "    feature_vector.append(ud5[i])\n",
        "    feature_vector.append(ud6[i])\n",
        "    feature_vector.append(md1[i])\n",
        "    feature_vector.append(md2[i])\n",
        "    feature_vector.append(md3[i])\n",
        "    feature_vector.append(md5[i])\n",
        "    feature_vector.append(nd1[i])\n",
        "    feature_vector.append(nd3[i])\n",
        "    feature_vector.append(nd5[i])\n",
        "    features_25.append(feature_vector)\n",
        "  return features_25"
      ]
    },
    {
      "cell_type": "code",
      "execution_count": null,
      "metadata": {
        "id": "RVs0hkUTG5Xe"
      },
      "outputs": [],
      "source": [
        "features_25 = extract_feature_25(u1,u2,u3,u4,m1,m2,m3,m4,n1,n2,n3,n4,ud1,ud2,ud3,ud4,ud5,ud6,md1,md2,md3,md5,nd1,nd3,nd5)"
      ]
    },
    {
      "cell_type": "code",
      "execution_count": null,
      "metadata": {
        "colab": {
          "base_uri": "https://localhost:8080/"
        },
        "id": "e40FFldLixGO",
        "outputId": "5e0cab2b-3af4-4c2a-ad8f-f7ed947bbccd"
      },
      "outputs": [
        {
          "data": {
            "text/plain": [
              "107"
            ]
          },
          "execution_count": 258,
          "metadata": {},
          "output_type": "execute_result"
        }
      ],
      "source": [
        "len(fu1)"
      ]
    },
    {
      "cell_type": "code",
      "execution_count": null,
      "metadata": {
        "id": "S_ltlo75E01l"
      },
      "outputs": [],
      "source": [
        "from scipy.linalg import logm"
      ]
    },
    {
      "cell_type": "code",
      "execution_count": null,
      "metadata": {
        "colab": {
          "base_uri": "https://localhost:8080/"
        },
        "id": "tJ6ttbXjLU09",
        "outputId": "97dda054-c089-4339-88fa-ffba35bc4e69"
      },
      "outputs": [
        {
          "data": {
            "text/plain": [
              "71"
            ]
          },
          "execution_count": 126,
          "metadata": {},
          "output_type": "execute_result"
        }
      ],
      "source": [
        "len(features_25)"
      ]
    },
    {
      "cell_type": "code",
      "execution_count": null,
      "metadata": {
        "colab": {
          "base_uri": "https://localhost:8080/"
        },
        "id": "wsEdkINwMJ7H",
        "outputId": "4bf214d1-c3b4-4d6f-c2c2-4eeb0bf93843"
      },
      "outputs": [
        {
          "data": {
            "text/plain": [
              "25"
            ]
          },
          "execution_count": 133,
          "metadata": {},
          "output_type": "execute_result"
        }
      ],
      "source": [
        "len(features_25[0])"
      ]
    },
    {
      "cell_type": "markdown",
      "metadata": {
        "id": "m6o98OFvi2nq"
      },
      "source": [
        "Log Covariance"
      ]
    },
    {
      "cell_type": "code",
      "execution_count": null,
      "metadata": {
        "id": "OhZ5_1rgEaNT"
      },
      "outputs": [],
      "source": [
        "def log_covariance_features(features_25):\n",
        "    log_cov = []\n",
        "    for i in range(len(features_25)):\n",
        "      array = features_25[i]\n",
        "      # Reshape to form a 5x5 matrix\n",
        "      M = array.reshape(5, 5)\n",
        "      # Compute the covariance matrix\n",
        "      cov_matrix = np.cov(M, rowvar=False)\n",
        "      # Compute the matrix logarithm of the covariance matrix\n",
        "      log_cov_matrix = logm(cov_matrix)\n",
        "      # Extract the upper triangular elements (including the diagonal)\n",
        "      upper_triangular_elements = log_cov_matrix[np.triu_indices(5)]\n",
        "      log_cov.append(upper_triangular_elements)\n",
        "    return log_cov\n"
      ]
    },
    {
      "cell_type": "code",
      "execution_count": null,
      "metadata": {
        "id": "xti_nFrbL_Eo"
      },
      "outputs": [],
      "source": [
        "log_cov = log_covariance_features(np.array(features_25))"
      ]
    },
    {
      "cell_type": "code",
      "execution_count": null,
      "metadata": {
        "colab": {
          "base_uri": "https://localhost:8080/"
        },
        "id": "N9xaBmcpMhxp",
        "outputId": "5adb488d-af53-4e99-9bb3-86396ddb0558"
      },
      "outputs": [
        {
          "data": {
            "text/plain": [
              "array([ -1.26287284,   5.05956391,   1.17427174,  -3.07534075,\n",
              "         2.89241234,  -1.43517664,  -0.67306346,   3.76190843,\n",
              "        -2.40865835,  -0.93321444,   6.71091986,  -2.12075137,\n",
              "       -17.90066336,  16.38344393, -10.63319573])"
            ]
          },
          "execution_count": 140,
          "metadata": {},
          "output_type": "execute_result"
        }
      ],
      "source": [
        "log_cov[0]"
      ]
    },
    {
      "cell_type": "markdown",
      "metadata": {
        "id": "lSaFSXGUM9KN"
      },
      "source": [
        "### Shannon entropy and log-energy entropy"
      ]
    },
    {
      "cell_type": "code",
      "execution_count": null,
      "metadata": {
        "id": "N_IEjDpDNfO0"
      },
      "outputs": [],
      "source": [
        "def shannon_entropy(data):\n",
        "    \"\"\"\n",
        "    Calculate the Shannon entropy of a signal.\n",
        "\n",
        "    Parameters:\n",
        "    signal (array-like): Input signal.\n",
        "\n",
        "    Returns:\n",
        "    float: Shannon entropy of the signal.\n",
        "    \"\"\"\n",
        "    Shannon_entropy = []\n",
        "    for i in range(len(data)):\n",
        "      signal = np.array(data[i])\n",
        "      # Normalize the signal\n",
        "      normalized_signal = signal / np.sum(signal)\n",
        "      # Calculate the Shannon entropy\n",
        "      entropy = -np.sum(normalized_signal * np.log(normalized_signal + np.finfo(float).eps))  # Adding eps to avoid log(0)\n",
        "      Shannon_entropy.append(entropy)\n",
        "    return Shannon_entropy\n",
        "\n",
        "def log_energy_entropy(data):\n",
        "    \"\"\"\n",
        "    Calculate the log-energy entropy of a signal.\n",
        "\n",
        "    Parameters:\n",
        "    signal (array-like): Input signal.\n",
        "\n",
        "    Returns:\n",
        "    float: Log-energy entropy of the signal.\n",
        "    \"\"\"\n",
        "    log_energy = []\n",
        "    for i in range(len(data)):\n",
        "      signal = np.array(data[i])\n",
        "      # Split the signal into two sub-windows\n",
        "      mid_point = len(signal) // 2\n",
        "      first_half = signal[:mid_point]\n",
        "      second_half = signal[mid_point:]\n",
        "\n",
        "      # Calculate the log-energy entropy\n",
        "      energy = np.sum(np.log(first_half ** 2 + np.finfo(float).eps)) + np.sum(np.log(second_half ** 2 + np.finfo(float).eps))\n",
        "      log_energy.append(energy)\n",
        "    return log_energy"
      ]
    },
    {
      "cell_type": "code",
      "execution_count": null,
      "metadata": {
        "id": "8e0aLw_SOppI"
      },
      "outputs": [],
      "source": [
        "s_entropy = shannon_entropy(xhTrain)"
      ]
    },
    {
      "cell_type": "code",
      "execution_count": null,
      "metadata": {
        "id": "L6hSyegOPFcu"
      },
      "outputs": [],
      "source": [
        "l_entropy = log_energy_entropy(xhTrain)"
      ]
    },
    {
      "cell_type": "markdown",
      "metadata": {
        "id": "sJpKRzp3PLa6"
      },
      "source": [
        "### FFT"
      ]
    },
    {
      "cell_type": "code",
      "execution_count": null,
      "metadata": {
        "id": "MfOplPABPK72"
      },
      "outputs": [],
      "source": [
        "def compute_fft(data, sampling_rate=1000):\n",
        "    \"\"\"\n",
        "    Compute the Fast Fourier Transform (FFT) and frequency bins of a given time series.\n",
        "\n",
        "    Parameters:\n",
        "    signal (array-like): Input signal amplitudes.\n",
        "    sampling_rate (float): Sampling rate of the signal.\n",
        "\n",
        "    Returns:\n",
        "    tuple: (frequencies, fft_result)\n",
        "        - frequencies (array-like): Frequency bins corresponding to the FFT.\n",
        "        - fft_result (array-like): FFT of the signal.\n",
        "    \"\"\"\n",
        "    freq = []\n",
        "    fft = []\n",
        "    for i in range(len(data)):\n",
        "      signal = np.array(data[i])\n",
        "      # Number of samples in the signal\n",
        "      N = len(signal)\n",
        "\n",
        "      # Compute the FFT\n",
        "      fft_result = np.fft.fft(signal)[:N // 2]\n",
        "\n",
        "      # Compute the frequency bins\n",
        "      frequencies = np.fft.fftfreq(N, d=1/sampling_rate)[:N // 2]\n",
        "      freq.append(frequencies)\n",
        "      fft.append(fft_result)\n",
        "    return freq,fft"
      ]
    },
    {
      "cell_type": "code",
      "execution_count": null,
      "metadata": {
        "id": "Q-nVBlBqQQWN"
      },
      "outputs": [],
      "source": [
        "frequencies, fft = compute_fft(xhTrain)"
      ]
    },
    {
      "cell_type": "markdown",
      "metadata": {
        "id": "em-4SYmoSIMa"
      },
      "source": [
        "### Crest-factor"
      ]
    },
    {
      "cell_type": "code",
      "execution_count": null,
      "metadata": {
        "id": "pZEfCYVm-PO_"
      },
      "outputs": [],
      "source": [
        "def extract_crest_factor(data):\n",
        "    crest_factor = []\n",
        "    for i in range(len(data)):\n",
        "      waveform = np.array(data[i])\n",
        "      # Convert input to a numpy array\n",
        "      waveform = np.array(waveform)\n",
        "      # Calculate the peak value\n",
        "      peak_value = np.max(np.abs(waveform))\n",
        "      # Calculate the RMS value\n",
        "      rms_value = np.sqrt(np.mean(waveform**2))\n",
        "      # Calculate the crest factor\n",
        "      factor = peak_value / rms_value\n",
        "      crest_factor.append(factor)\n",
        "    return crest_factor"
      ]
    },
    {
      "cell_type": "code",
      "execution_count": null,
      "metadata": {
        "id": "t_hJpJPb6fHo"
      },
      "outputs": [],
      "source": [
        "crestFactor = extract_crest_factor(xhTrain)"
      ]
    },
    {
      "cell_type": "markdown",
      "metadata": {
        "id": "fJV-cisbSlct"
      },
      "source": [
        "### Energy"
      ]
    },
    {
      "cell_type": "code",
      "execution_count": null,
      "metadata": {
        "id": "I8jxQjNVTHJ6"
      },
      "outputs": [],
      "source": [
        "def extract_energy(data):\n",
        "  total_energy = []\n",
        "  for i in range(len(data)):\n",
        "    signal = np.array(data[i])\n",
        "    energy = np.sum(signal**2)\n",
        "    total_energy.append(energy)\n",
        "  return total_energy"
      ]
    },
    {
      "cell_type": "code",
      "execution_count": null,
      "metadata": {
        "id": "deMBs4qrTjeL"
      },
      "outputs": [],
      "source": [
        "energy = extract_energy(xhTrain)"
      ]
    },
    {
      "cell_type": "markdown",
      "metadata": {
        "id": "VnYNU8Z4T7P0"
      },
      "source": [
        "### RMS"
      ]
    },
    {
      "cell_type": "code",
      "execution_count": null,
      "metadata": {
        "id": "yCn-ts1rTxLj"
      },
      "outputs": [],
      "source": [
        "def extract_rms(data):\n",
        "  rms = []\n",
        "  for i in range(len(data)):\n",
        "    signal = np.array(data[i])\n",
        "    squared_signal = signal ** 2\n",
        "    # Calculate the mean of the squared values\n",
        "    mean_squared_signal = np.mean(squared_signal)\n",
        "    # Calculate the RMS value by taking the square root of the mean of squared values\n",
        "    rms_value = np.sqrt(mean_squared_signal)\n",
        "    rms.append(rms_value)\n",
        "  return rms"
      ]
    },
    {
      "cell_type": "code",
      "execution_count": null,
      "metadata": {
        "id": "YbpVGz33UL-1"
      },
      "outputs": [],
      "source": [
        "rms = extract_rms(xhTrain)"
      ]
    },
    {
      "cell_type": "code",
      "execution_count": null,
      "metadata": {
        "id": "GckT_zInUVI8"
      },
      "outputs": [],
      "source": [
        "trainHx = pd.DataFrame()\n",
        "trainHx['rms'] = rms\n",
        "trainHx['energy'] = energy\n",
        "trainHx['skewness'] = skewness\n",
        "trainHx['kurtosis'] = kurt\n",
        "trainHx['crestFactor'] = crestFactor\n",
        "trainHx['ShannonEntropy'] = s_entropy\n",
        "trainHx['LogEnergyEntropy'] = l_entropy\n",
        "trainHx['LogCovariance'] = log_cov"
      ]
    },
    {
      "cell_type": "code",
      "execution_count": null,
      "metadata": {
        "colab": {
          "base_uri": "https://localhost:8080/"
        },
        "id": "npAwYrioYLy5",
        "outputId": "d0c90f20-b531-4d1f-e2d7-b72837f23d82"
      },
      "outputs": [
        {
          "data": {
            "text/plain": [
              "15"
            ]
          },
          "execution_count": 184,
          "metadata": {},
          "output_type": "execute_result"
        }
      ],
      "source": [
        "len(log_cov[0])"
      ]
    },
    {
      "cell_type": "code",
      "execution_count": null,
      "metadata": {
        "id": "zQXUgcEuaEML"
      },
      "outputs": [],
      "source": [
        "trainHx[['lc1','lc2','lc3','lc4','lc5','lc6','lc7','lc8','lc9','lc10','lc11','lc12','lc13','lc14','lc15']] = pd.DataFrame(trainHx['LogCovariance'].tolist())\n",
        "trainHx.drop('LogCovariance', axis=1, inplace=True)"
      ]
    },
    {
      "cell_type": "code",
      "execution_count": null,
      "metadata": {
        "colab": {
          "base_uri": "https://localhost:8080/",
          "height": 443
        },
        "id": "6P9Mis-bbCsr",
        "outputId": "54204583-87f4-4c9f-899e-e874e711b5a9"
      },
      "outputs": [
        {
          "data": {
            "application/vnd.google.colaboratory.intrinsic+json": {
              "type": "dataframe",
              "variable_name": "trainHx"
            },
            "text/html": [
              "\n",
              "  <div id=\"df-074835fc-77cb-4895-b7d7-f0a28a75b5ae\" class=\"colab-df-container\">\n",
              "    <div>\n",
              "<style scoped>\n",
              "    .dataframe tbody tr th:only-of-type {\n",
              "        vertical-align: middle;\n",
              "    }\n",
              "\n",
              "    .dataframe tbody tr th {\n",
              "        vertical-align: top;\n",
              "    }\n",
              "\n",
              "    .dataframe thead th {\n",
              "        text-align: right;\n",
              "    }\n",
              "</style>\n",
              "<table border=\"1\" class=\"dataframe\">\n",
              "  <thead>\n",
              "    <tr style=\"text-align: right;\">\n",
              "      <th></th>\n",
              "      <th>rms</th>\n",
              "      <th>energy</th>\n",
              "      <th>skewness</th>\n",
              "      <th>kurtosis</th>\n",
              "      <th>crestFactor</th>\n",
              "      <th>ShannonEntropy</th>\n",
              "      <th>LogEnergyEntropy</th>\n",
              "      <th>lc1</th>\n",
              "      <th>lc2</th>\n",
              "      <th>lc3</th>\n",
              "      <th>...</th>\n",
              "      <th>lc6</th>\n",
              "      <th>lc7</th>\n",
              "      <th>lc8</th>\n",
              "      <th>lc9</th>\n",
              "      <th>lc10</th>\n",
              "      <th>lc11</th>\n",
              "      <th>lc12</th>\n",
              "      <th>lc13</th>\n",
              "      <th>lc14</th>\n",
              "      <th>lc15</th>\n",
              "    </tr>\n",
              "  </thead>\n",
              "  <tbody>\n",
              "    <tr>\n",
              "      <th>0</th>\n",
              "      <td>9.260469</td>\n",
              "      <td>171512.593750</td>\n",
              "      <td>0.080020</td>\n",
              "      <td>0.726111</td>\n",
              "      <td>1.079859</td>\n",
              "      <td>7.600666</td>\n",
              "      <td>8901.126953</td>\n",
              "      <td>-1.262873+0.000000j</td>\n",
              "      <td>5.059564+0.000000j</td>\n",
              "      <td>1.174272+0.000000j</td>\n",
              "      <td>...</td>\n",
              "      <td>-1.435177+0.000000j</td>\n",
              "      <td>-0.673063+0.000000j</td>\n",
              "      <td>3.761908+0.000000j</td>\n",
              "      <td>-2.408658+0.000000j</td>\n",
              "      <td>-0.933214+0.000000j</td>\n",
              "      <td>6.710920+0.000000j</td>\n",
              "      <td>-2.120751+0.000000j</td>\n",
              "      <td>-17.900663+0.000000j</td>\n",
              "      <td>16.383444+0.000000j</td>\n",
              "      <td>-10.633196+0.000000j</td>\n",
              "    </tr>\n",
              "    <tr>\n",
              "      <th>1</th>\n",
              "      <td>9.258366</td>\n",
              "      <td>171434.671875</td>\n",
              "      <td>0.110034</td>\n",
              "      <td>0.289443</td>\n",
              "      <td>1.080104</td>\n",
              "      <td>7.600691</td>\n",
              "      <td>8900.416016</td>\n",
              "      <td>-7.890554+0.000000j</td>\n",
              "      <td>11.319243+0.000000j</td>\n",
              "      <td>-0.562406+0.000000j</td>\n",
              "      <td>...</td>\n",
              "      <td>-7.319883+0.000000j</td>\n",
              "      <td>1.081459+0.000000j</td>\n",
              "      <td>-6.833051+0.000000j</td>\n",
              "      <td>7.058786+0.000000j</td>\n",
              "      <td>-0.180694+0.000000j</td>\n",
              "      <td>3.472014+0.000000j</td>\n",
              "      <td>0.559399+0.000000j</td>\n",
              "      <td>-8.504908+0.000000j</td>\n",
              "      <td>9.879140+0.000000j</td>\n",
              "      <td>-6.636256+0.000000j</td>\n",
              "    </tr>\n",
              "    <tr>\n",
              "      <th>2</th>\n",
              "      <td>9.261809</td>\n",
              "      <td>171562.218750</td>\n",
              "      <td>0.089798</td>\n",
              "      <td>0.198294</td>\n",
              "      <td>1.079703</td>\n",
              "      <td>7.600690</td>\n",
              "      <td>8901.898438</td>\n",
              "      <td>-7.779300+0.000000j</td>\n",
              "      <td>11.485951+0.000000j</td>\n",
              "      <td>-0.609909+0.000000j</td>\n",
              "      <td>...</td>\n",
              "      <td>-7.777799+0.000000j</td>\n",
              "      <td>1.182235+0.000000j</td>\n",
              "      <td>-2.618600+0.000000j</td>\n",
              "      <td>2.396569+0.000000j</td>\n",
              "      <td>-1.751315+0.000000j</td>\n",
              "      <td>7.907225+0.000000j</td>\n",
              "      <td>-2.462577+0.000000j</td>\n",
              "      <td>-18.412753+0.000000j</td>\n",
              "      <td>15.604256+0.000000j</td>\n",
              "      <td>-9.469829+0.000000j</td>\n",
              "    </tr>\n",
              "    <tr>\n",
              "      <th>3</th>\n",
              "      <td>9.258246</td>\n",
              "      <td>171430.265625</td>\n",
              "      <td>0.289865</td>\n",
              "      <td>0.177759</td>\n",
              "      <td>1.080118</td>\n",
              "      <td>7.600687</td>\n",
              "      <td>8900.329102</td>\n",
              "      <td>-14.827984+0.000000j</td>\n",
              "      <td>18.505008+0.000000j</td>\n",
              "      <td>-2.736291+0.000000j</td>\n",
              "      <td>...</td>\n",
              "      <td>-14.826339+0.000000j</td>\n",
              "      <td>3.349134+0.000000j</td>\n",
              "      <td>-2.665122+0.000000j</td>\n",
              "      <td>0.137439+0.000000j</td>\n",
              "      <td>-0.383173+0.000000j</td>\n",
              "      <td>2.712244+0.000000j</td>\n",
              "      <td>1.540827+0.000000j</td>\n",
              "      <td>-1.379857+0.000000j</td>\n",
              "      <td>3.130429+0.000000j</td>\n",
              "      <td>-0.584684+0.000000j</td>\n",
              "    </tr>\n",
              "    <tr>\n",
              "      <th>4</th>\n",
              "      <td>9.264484</td>\n",
              "      <td>171661.328125</td>\n",
              "      <td>0.233110</td>\n",
              "      <td>0.338560</td>\n",
              "      <td>1.079391</td>\n",
              "      <td>7.600688</td>\n",
              "      <td>8903.036133</td>\n",
              "      <td>-13.688512+0.000000j</td>\n",
              "      <td>16.856933+0.000000j</td>\n",
              "      <td>5.137696+0.000000j</td>\n",
              "      <td>...</td>\n",
              "      <td>-12.634890+0.000000j</td>\n",
              "      <td>-4.377546+0.000000j</td>\n",
              "      <td>4.214764+0.000000j</td>\n",
              "      <td>0.615315+0.000000j</td>\n",
              "      <td>-2.128084+0.000000j</td>\n",
              "      <td>4.756303+0.000000j</td>\n",
              "      <td>1.155544+0.000000j</td>\n",
              "      <td>-3.116357+0.000000j</td>\n",
              "      <td>2.880175+0.000000j</td>\n",
              "      <td>0.107050+0.000000j</td>\n",
              "    </tr>\n",
              "    <tr>\n",
              "      <th>...</th>\n",
              "      <td>...</td>\n",
              "      <td>...</td>\n",
              "      <td>...</td>\n",
              "      <td>...</td>\n",
              "      <td>...</td>\n",
              "      <td>...</td>\n",
              "      <td>...</td>\n",
              "      <td>...</td>\n",
              "      <td>...</td>\n",
              "      <td>...</td>\n",
              "      <td>...</td>\n",
              "      <td>...</td>\n",
              "      <td>...</td>\n",
              "      <td>...</td>\n",
              "      <td>...</td>\n",
              "      <td>...</td>\n",
              "      <td>...</td>\n",
              "      <td>...</td>\n",
              "      <td>...</td>\n",
              "      <td>...</td>\n",
              "      <td>...</td>\n",
              "    </tr>\n",
              "    <tr>\n",
              "      <th>66</th>\n",
              "      <td>9.244857</td>\n",
              "      <td>170934.765625</td>\n",
              "      <td>0.075239</td>\n",
              "      <td>0.549339</td>\n",
              "      <td>1.081683</td>\n",
              "      <td>7.600682</td>\n",
              "      <td>8894.499023</td>\n",
              "      <td>-14.343343+0.000000j</td>\n",
              "      <td>18.091628+0.000000j</td>\n",
              "      <td>4.195075+0.000000j</td>\n",
              "      <td>...</td>\n",
              "      <td>-14.366628+0.000000j</td>\n",
              "      <td>-3.631970+0.000000j</td>\n",
              "      <td>4.005328+0.000000j</td>\n",
              "      <td>0.519557+0.000000j</td>\n",
              "      <td>-1.191751+0.000000j</td>\n",
              "      <td>4.077597+0.000000j</td>\n",
              "      <td>0.998533+0.000000j</td>\n",
              "      <td>-3.198890+0.000000j</td>\n",
              "      <td>3.633306+0.000000j</td>\n",
              "      <td>-0.552820+0.000000j</td>\n",
              "    </tr>\n",
              "    <tr>\n",
              "      <th>67</th>\n",
              "      <td>9.241983</td>\n",
              "      <td>170828.515625</td>\n",
              "      <td>0.051700</td>\n",
              "      <td>-0.130745</td>\n",
              "      <td>1.082019</td>\n",
              "      <td>7.600688</td>\n",
              "      <td>8893.308594</td>\n",
              "      <td>-15.300267+0.000000j</td>\n",
              "      <td>18.392495+0.000000j</td>\n",
              "      <td>0.797250+0.000000j</td>\n",
              "      <td>...</td>\n",
              "      <td>-14.155889+0.000000j</td>\n",
              "      <td>-0.151714+0.000000j</td>\n",
              "      <td>-0.291067+0.000000j</td>\n",
              "      <td>0.779268+0.000000j</td>\n",
              "      <td>-0.069058+0.000000j</td>\n",
              "      <td>2.232955+0.000000j</td>\n",
              "      <td>1.764568+0.000000j</td>\n",
              "      <td>-1.393731+0.000000j</td>\n",
              "      <td>3.588999+0.000000j</td>\n",
              "      <td>-1.264664+0.000000j</td>\n",
              "    </tr>\n",
              "    <tr>\n",
              "      <th>68</th>\n",
              "      <td>9.245980</td>\n",
              "      <td>170976.281250</td>\n",
              "      <td>0.165458</td>\n",
              "      <td>0.354271</td>\n",
              "      <td>1.081551</td>\n",
              "      <td>7.600678</td>\n",
              "      <td>8894.958984</td>\n",
              "      <td>-1.562420+0.000000j</td>\n",
              "      <td>5.191172+0.000000j</td>\n",
              "      <td>1.402159+0.000000j</td>\n",
              "      <td>...</td>\n",
              "      <td>-1.451120+0.000000j</td>\n",
              "      <td>-0.865137+0.000000j</td>\n",
              "      <td>4.041829+0.000000j</td>\n",
              "      <td>-2.644642+0.000000j</td>\n",
              "      <td>-1.049789+0.000000j</td>\n",
              "      <td>6.970962+0.000000j</td>\n",
              "      <td>-2.321787+0.000000j</td>\n",
              "      <td>-18.639816+0.000000j</td>\n",
              "      <td>16.974069+0.000000j</td>\n",
              "      <td>-11.120919+0.000000j</td>\n",
              "    </tr>\n",
              "    <tr>\n",
              "      <th>69</th>\n",
              "      <td>9.246173</td>\n",
              "      <td>170983.406250</td>\n",
              "      <td>0.163774</td>\n",
              "      <td>0.272476</td>\n",
              "      <td>1.081529</td>\n",
              "      <td>7.600675</td>\n",
              "      <td>8895.009766</td>\n",
              "      <td>-14.477706+1.544187j</td>\n",
              "      <td>18.081898-1.537017j</td>\n",
              "      <td>-1.964618+0.218731j</td>\n",
              "      <td>...</td>\n",
              "      <td>-14.333455+1.529880j</td>\n",
              "      <td>2.489038-0.217715j</td>\n",
              "      <td>0.241619-0.005618j</td>\n",
              "      <td>-2.015913+0.236380j</td>\n",
              "      <td>-0.106348+0.030983j</td>\n",
              "      <td>2.326889+0.000799j</td>\n",
              "      <td>1.620858-0.033639j</td>\n",
              "      <td>-1.484980+0.000021j</td>\n",
              "      <td>3.600456-0.000868j</td>\n",
              "      <td>-1.052617+0.036523j</td>\n",
              "    </tr>\n",
              "    <tr>\n",
              "      <th>70</th>\n",
              "      <td>9.242131</td>\n",
              "      <td>170833.984375</td>\n",
              "      <td>0.127257</td>\n",
              "      <td>0.239801</td>\n",
              "      <td>1.082002</td>\n",
              "      <td>7.600672</td>\n",
              "      <td>8893.243164</td>\n",
              "      <td>-15.208465+0.000000j</td>\n",
              "      <td>18.847048+0.000000j</td>\n",
              "      <td>0.348058+0.000000j</td>\n",
              "      <td>...</td>\n",
              "      <td>-15.199519+0.000000j</td>\n",
              "      <td>0.305398+0.000000j</td>\n",
              "      <td>0.372950+0.000000j</td>\n",
              "      <td>0.199751+0.000000j</td>\n",
              "      <td>-0.093754+0.000000j</td>\n",
              "      <td>2.920542+0.000000j</td>\n",
              "      <td>1.035899+0.000000j</td>\n",
              "      <td>-1.620000+0.000000j</td>\n",
              "      <td>3.092836+0.000000j</td>\n",
              "      <td>0.018771+0.000000j</td>\n",
              "    </tr>\n",
              "  </tbody>\n",
              "</table>\n",
              "<p>71 rows × 22 columns</p>\n",
              "</div>\n",
              "    <div class=\"colab-df-buttons\">\n",
              "\n",
              "  <div class=\"colab-df-container\">\n",
              "    <button class=\"colab-df-convert\" onclick=\"convertToInteractive('df-074835fc-77cb-4895-b7d7-f0a28a75b5ae')\"\n",
              "            title=\"Convert this dataframe to an interactive table.\"\n",
              "            style=\"display:none;\">\n",
              "\n",
              "  <svg xmlns=\"http://www.w3.org/2000/svg\" height=\"24px\" viewBox=\"0 -960 960 960\">\n",
              "    <path d=\"M120-120v-720h720v720H120Zm60-500h600v-160H180v160Zm220 220h160v-160H400v160Zm0 220h160v-160H400v160ZM180-400h160v-160H180v160Zm440 0h160v-160H620v160ZM180-180h160v-160H180v160Zm440 0h160v-160H620v160Z\"/>\n",
              "  </svg>\n",
              "    </button>\n",
              "\n",
              "  <style>\n",
              "    .colab-df-container {\n",
              "      display:flex;\n",
              "      gap: 12px;\n",
              "    }\n",
              "\n",
              "    .colab-df-convert {\n",
              "      background-color: #E8F0FE;\n",
              "      border: none;\n",
              "      border-radius: 50%;\n",
              "      cursor: pointer;\n",
              "      display: none;\n",
              "      fill: #1967D2;\n",
              "      height: 32px;\n",
              "      padding: 0 0 0 0;\n",
              "      width: 32px;\n",
              "    }\n",
              "\n",
              "    .colab-df-convert:hover {\n",
              "      background-color: #E2EBFA;\n",
              "      box-shadow: 0px 1px 2px rgba(60, 64, 67, 0.3), 0px 1px 3px 1px rgba(60, 64, 67, 0.15);\n",
              "      fill: #174EA6;\n",
              "    }\n",
              "\n",
              "    .colab-df-buttons div {\n",
              "      margin-bottom: 4px;\n",
              "    }\n",
              "\n",
              "    [theme=dark] .colab-df-convert {\n",
              "      background-color: #3B4455;\n",
              "      fill: #D2E3FC;\n",
              "    }\n",
              "\n",
              "    [theme=dark] .colab-df-convert:hover {\n",
              "      background-color: #434B5C;\n",
              "      box-shadow: 0px 1px 3px 1px rgba(0, 0, 0, 0.15);\n",
              "      filter: drop-shadow(0px 1px 2px rgba(0, 0, 0, 0.3));\n",
              "      fill: #FFFFFF;\n",
              "    }\n",
              "  </style>\n",
              "\n",
              "    <script>\n",
              "      const buttonEl =\n",
              "        document.querySelector('#df-074835fc-77cb-4895-b7d7-f0a28a75b5ae button.colab-df-convert');\n",
              "      buttonEl.style.display =\n",
              "        google.colab.kernel.accessAllowed ? 'block' : 'none';\n",
              "\n",
              "      async function convertToInteractive(key) {\n",
              "        const element = document.querySelector('#df-074835fc-77cb-4895-b7d7-f0a28a75b5ae');\n",
              "        const dataTable =\n",
              "          await google.colab.kernel.invokeFunction('convertToInteractive',\n",
              "                                                    [key], {});\n",
              "        if (!dataTable) return;\n",
              "\n",
              "        const docLinkHtml = 'Like what you see? Visit the ' +\n",
              "          '<a target=\"_blank\" href=https://colab.research.google.com/notebooks/data_table.ipynb>data table notebook</a>'\n",
              "          + ' to learn more about interactive tables.';\n",
              "        element.innerHTML = '';\n",
              "        dataTable['output_type'] = 'display_data';\n",
              "        await google.colab.output.renderOutput(dataTable, element);\n",
              "        const docLink = document.createElement('div');\n",
              "        docLink.innerHTML = docLinkHtml;\n",
              "        element.appendChild(docLink);\n",
              "      }\n",
              "    </script>\n",
              "  </div>\n",
              "\n",
              "\n",
              "<div id=\"df-662dedb0-cd9a-48ea-880a-5bf4c4af4a9d\">\n",
              "  <button class=\"colab-df-quickchart\" onclick=\"quickchart('df-662dedb0-cd9a-48ea-880a-5bf4c4af4a9d')\"\n",
              "            title=\"Suggest charts\"\n",
              "            style=\"display:none;\">\n",
              "\n",
              "<svg xmlns=\"http://www.w3.org/2000/svg\" height=\"24px\"viewBox=\"0 0 24 24\"\n",
              "     width=\"24px\">\n",
              "    <g>\n",
              "        <path d=\"M19 3H5c-1.1 0-2 .9-2 2v14c0 1.1.9 2 2 2h14c1.1 0 2-.9 2-2V5c0-1.1-.9-2-2-2zM9 17H7v-7h2v7zm4 0h-2V7h2v10zm4 0h-2v-4h2v4z\"/>\n",
              "    </g>\n",
              "</svg>\n",
              "  </button>\n",
              "\n",
              "<style>\n",
              "  .colab-df-quickchart {\n",
              "      --bg-color: #E8F0FE;\n",
              "      --fill-color: #1967D2;\n",
              "      --hover-bg-color: #E2EBFA;\n",
              "      --hover-fill-color: #174EA6;\n",
              "      --disabled-fill-color: #AAA;\n",
              "      --disabled-bg-color: #DDD;\n",
              "  }\n",
              "\n",
              "  [theme=dark] .colab-df-quickchart {\n",
              "      --bg-color: #3B4455;\n",
              "      --fill-color: #D2E3FC;\n",
              "      --hover-bg-color: #434B5C;\n",
              "      --hover-fill-color: #FFFFFF;\n",
              "      --disabled-bg-color: #3B4455;\n",
              "      --disabled-fill-color: #666;\n",
              "  }\n",
              "\n",
              "  .colab-df-quickchart {\n",
              "    background-color: var(--bg-color);\n",
              "    border: none;\n",
              "    border-radius: 50%;\n",
              "    cursor: pointer;\n",
              "    display: none;\n",
              "    fill: var(--fill-color);\n",
              "    height: 32px;\n",
              "    padding: 0;\n",
              "    width: 32px;\n",
              "  }\n",
              "\n",
              "  .colab-df-quickchart:hover {\n",
              "    background-color: var(--hover-bg-color);\n",
              "    box-shadow: 0 1px 2px rgba(60, 64, 67, 0.3), 0 1px 3px 1px rgba(60, 64, 67, 0.15);\n",
              "    fill: var(--button-hover-fill-color);\n",
              "  }\n",
              "\n",
              "  .colab-df-quickchart-complete:disabled,\n",
              "  .colab-df-quickchart-complete:disabled:hover {\n",
              "    background-color: var(--disabled-bg-color);\n",
              "    fill: var(--disabled-fill-color);\n",
              "    box-shadow: none;\n",
              "  }\n",
              "\n",
              "  .colab-df-spinner {\n",
              "    border: 2px solid var(--fill-color);\n",
              "    border-color: transparent;\n",
              "    border-bottom-color: var(--fill-color);\n",
              "    animation:\n",
              "      spin 1s steps(1) infinite;\n",
              "  }\n",
              "\n",
              "  @keyframes spin {\n",
              "    0% {\n",
              "      border-color: transparent;\n",
              "      border-bottom-color: var(--fill-color);\n",
              "      border-left-color: var(--fill-color);\n",
              "    }\n",
              "    20% {\n",
              "      border-color: transparent;\n",
              "      border-left-color: var(--fill-color);\n",
              "      border-top-color: var(--fill-color);\n",
              "    }\n",
              "    30% {\n",
              "      border-color: transparent;\n",
              "      border-left-color: var(--fill-color);\n",
              "      border-top-color: var(--fill-color);\n",
              "      border-right-color: var(--fill-color);\n",
              "    }\n",
              "    40% {\n",
              "      border-color: transparent;\n",
              "      border-right-color: var(--fill-color);\n",
              "      border-top-color: var(--fill-color);\n",
              "    }\n",
              "    60% {\n",
              "      border-color: transparent;\n",
              "      border-right-color: var(--fill-color);\n",
              "    }\n",
              "    80% {\n",
              "      border-color: transparent;\n",
              "      border-right-color: var(--fill-color);\n",
              "      border-bottom-color: var(--fill-color);\n",
              "    }\n",
              "    90% {\n",
              "      border-color: transparent;\n",
              "      border-bottom-color: var(--fill-color);\n",
              "    }\n",
              "  }\n",
              "</style>\n",
              "\n",
              "  <script>\n",
              "    async function quickchart(key) {\n",
              "      const quickchartButtonEl =\n",
              "        document.querySelector('#' + key + ' button');\n",
              "      quickchartButtonEl.disabled = true;  // To prevent multiple clicks.\n",
              "      quickchartButtonEl.classList.add('colab-df-spinner');\n",
              "      try {\n",
              "        const charts = await google.colab.kernel.invokeFunction(\n",
              "            'suggestCharts', [key], {});\n",
              "      } catch (error) {\n",
              "        console.error('Error during call to suggestCharts:', error);\n",
              "      }\n",
              "      quickchartButtonEl.classList.remove('colab-df-spinner');\n",
              "      quickchartButtonEl.classList.add('colab-df-quickchart-complete');\n",
              "    }\n",
              "    (() => {\n",
              "      let quickchartButtonEl =\n",
              "        document.querySelector('#df-662dedb0-cd9a-48ea-880a-5bf4c4af4a9d button');\n",
              "      quickchartButtonEl.style.display =\n",
              "        google.colab.kernel.accessAllowed ? 'block' : 'none';\n",
              "    })();\n",
              "  </script>\n",
              "</div>\n",
              "    </div>\n",
              "  </div>\n"
            ],
            "text/plain": [
              "         rms         energy  skewness  kurtosis  crestFactor  ShannonEntropy  \\\n",
              "0   9.260469  171512.593750  0.080020  0.726111     1.079859        7.600666   \n",
              "1   9.258366  171434.671875  0.110034  0.289443     1.080104        7.600691   \n",
              "2   9.261809  171562.218750  0.089798  0.198294     1.079703        7.600690   \n",
              "3   9.258246  171430.265625  0.289865  0.177759     1.080118        7.600687   \n",
              "4   9.264484  171661.328125  0.233110  0.338560     1.079391        7.600688   \n",
              "..       ...            ...       ...       ...          ...             ...   \n",
              "66  9.244857  170934.765625  0.075239  0.549339     1.081683        7.600682   \n",
              "67  9.241983  170828.515625  0.051700 -0.130745     1.082019        7.600688   \n",
              "68  9.245980  170976.281250  0.165458  0.354271     1.081551        7.600678   \n",
              "69  9.246173  170983.406250  0.163774  0.272476     1.081529        7.600675   \n",
              "70  9.242131  170833.984375  0.127257  0.239801     1.082002        7.600672   \n",
              "\n",
              "    LogEnergyEntropy                  lc1                  lc2  \\\n",
              "0        8901.126953  -1.262873+0.000000j   5.059564+0.000000j   \n",
              "1        8900.416016  -7.890554+0.000000j  11.319243+0.000000j   \n",
              "2        8901.898438  -7.779300+0.000000j  11.485951+0.000000j   \n",
              "3        8900.329102 -14.827984+0.000000j  18.505008+0.000000j   \n",
              "4        8903.036133 -13.688512+0.000000j  16.856933+0.000000j   \n",
              "..               ...                  ...                  ...   \n",
              "66       8894.499023 -14.343343+0.000000j  18.091628+0.000000j   \n",
              "67       8893.308594 -15.300267+0.000000j  18.392495+0.000000j   \n",
              "68       8894.958984  -1.562420+0.000000j   5.191172+0.000000j   \n",
              "69       8895.009766 -14.477706+1.544187j  18.081898-1.537017j   \n",
              "70       8893.243164 -15.208465+0.000000j  18.847048+0.000000j   \n",
              "\n",
              "                   lc3  ...                  lc6                 lc7  \\\n",
              "0   1.174272+0.000000j  ...  -1.435177+0.000000j -0.673063+0.000000j   \n",
              "1  -0.562406+0.000000j  ...  -7.319883+0.000000j  1.081459+0.000000j   \n",
              "2  -0.609909+0.000000j  ...  -7.777799+0.000000j  1.182235+0.000000j   \n",
              "3  -2.736291+0.000000j  ... -14.826339+0.000000j  3.349134+0.000000j   \n",
              "4   5.137696+0.000000j  ... -12.634890+0.000000j -4.377546+0.000000j   \n",
              "..                 ...  ...                  ...                 ...   \n",
              "66  4.195075+0.000000j  ... -14.366628+0.000000j -3.631970+0.000000j   \n",
              "67  0.797250+0.000000j  ... -14.155889+0.000000j -0.151714+0.000000j   \n",
              "68  1.402159+0.000000j  ...  -1.451120+0.000000j -0.865137+0.000000j   \n",
              "69 -1.964618+0.218731j  ... -14.333455+1.529880j  2.489038-0.217715j   \n",
              "70  0.348058+0.000000j  ... -15.199519+0.000000j  0.305398+0.000000j   \n",
              "\n",
              "                   lc8                 lc9                lc10  \\\n",
              "0   3.761908+0.000000j -2.408658+0.000000j -0.933214+0.000000j   \n",
              "1  -6.833051+0.000000j  7.058786+0.000000j -0.180694+0.000000j   \n",
              "2  -2.618600+0.000000j  2.396569+0.000000j -1.751315+0.000000j   \n",
              "3  -2.665122+0.000000j  0.137439+0.000000j -0.383173+0.000000j   \n",
              "4   4.214764+0.000000j  0.615315+0.000000j -2.128084+0.000000j   \n",
              "..                 ...                 ...                 ...   \n",
              "66  4.005328+0.000000j  0.519557+0.000000j -1.191751+0.000000j   \n",
              "67 -0.291067+0.000000j  0.779268+0.000000j -0.069058+0.000000j   \n",
              "68  4.041829+0.000000j -2.644642+0.000000j -1.049789+0.000000j   \n",
              "69  0.241619-0.005618j -2.015913+0.236380j -0.106348+0.030983j   \n",
              "70  0.372950+0.000000j  0.199751+0.000000j -0.093754+0.000000j   \n",
              "\n",
              "                  lc11                lc12                 lc13  \\\n",
              "0   6.710920+0.000000j -2.120751+0.000000j -17.900663+0.000000j   \n",
              "1   3.472014+0.000000j  0.559399+0.000000j  -8.504908+0.000000j   \n",
              "2   7.907225+0.000000j -2.462577+0.000000j -18.412753+0.000000j   \n",
              "3   2.712244+0.000000j  1.540827+0.000000j  -1.379857+0.000000j   \n",
              "4   4.756303+0.000000j  1.155544+0.000000j  -3.116357+0.000000j   \n",
              "..                 ...                 ...                  ...   \n",
              "66  4.077597+0.000000j  0.998533+0.000000j  -3.198890+0.000000j   \n",
              "67  2.232955+0.000000j  1.764568+0.000000j  -1.393731+0.000000j   \n",
              "68  6.970962+0.000000j -2.321787+0.000000j -18.639816+0.000000j   \n",
              "69  2.326889+0.000799j  1.620858-0.033639j  -1.484980+0.000021j   \n",
              "70  2.920542+0.000000j  1.035899+0.000000j  -1.620000+0.000000j   \n",
              "\n",
              "                   lc14                 lc15  \n",
              "0   16.383444+0.000000j -10.633196+0.000000j  \n",
              "1    9.879140+0.000000j  -6.636256+0.000000j  \n",
              "2   15.604256+0.000000j  -9.469829+0.000000j  \n",
              "3    3.130429+0.000000j  -0.584684+0.000000j  \n",
              "4    2.880175+0.000000j   0.107050+0.000000j  \n",
              "..                  ...                  ...  \n",
              "66   3.633306+0.000000j  -0.552820+0.000000j  \n",
              "67   3.588999+0.000000j  -1.264664+0.000000j  \n",
              "68  16.974069+0.000000j -11.120919+0.000000j  \n",
              "69   3.600456-0.000868j  -1.052617+0.036523j  \n",
              "70   3.092836+0.000000j   0.018771+0.000000j  \n",
              "\n",
              "[71 rows x 22 columns]"
            ]
          },
          "execution_count": 220,
          "metadata": {},
          "output_type": "execute_result"
        }
      ],
      "source": [
        "trainHx"
      ]
    },
    {
      "cell_type": "code",
      "execution_count": null,
      "metadata": {
        "colab": {
          "base_uri": "https://localhost:8080/"
        },
        "id": "-fsWuwwjcYU4",
        "outputId": "34073513-df24-4ebd-ee53-bec0131ad0de"
      },
      "outputs": [
        {
          "data": {
            "text/plain": [
              "['rms',\n",
              " 'energy',\n",
              " 'skewness',\n",
              " 'kurtosis',\n",
              " 'crestFactor',\n",
              " 'ShannonEntropy',\n",
              " 'LogEnergyEntropy',\n",
              " 'lc1',\n",
              " 'lc2',\n",
              " 'lc3',\n",
              " 'lc4',\n",
              " 'lc5',\n",
              " 'lc6',\n",
              " 'lc7',\n",
              " 'lc8',\n",
              " 'lc9',\n",
              " 'lc10',\n",
              " 'lc11',\n",
              " 'lc12',\n",
              " 'lc13',\n",
              " 'lc14',\n",
              " 'lc15']"
            ]
          },
          "execution_count": 221,
          "metadata": {},
          "output_type": "execute_result"
        }
      ],
      "source": [
        "list(trainHx.columns)"
      ]
    },
    {
      "cell_type": "code",
      "execution_count": null,
      "metadata": {
        "id": "NS8rGX55cznn"
      },
      "outputs": [],
      "source": [
        "complex_col = ['lc1',\n",
        " 'lc2',\n",
        " 'lc3',\n",
        " 'lc4',\n",
        " 'lc5',\n",
        " 'lc6',\n",
        " 'lc7',\n",
        " 'lc8',\n",
        " 'lc9',\n",
        " 'lc10',\n",
        " 'lc11',\n",
        " 'lc12',\n",
        " 'lc13',\n",
        " 'lc14',\n",
        " 'lc15']"
      ]
    },
    {
      "cell_type": "code",
      "execution_count": null,
      "metadata": {
        "id": "wMsGCrHtcPM3"
      },
      "outputs": [],
      "source": [
        "def split_complex_numbers(list,data):\n",
        "  df = data.copy()\n",
        "  for i in list:\n",
        "    df[['r'+ i, 'i'+ i]] = df[i].apply(lambda x: pd.Series([x.real, x.imag]))\n",
        "\n",
        "    # Drop the original complex column if needed\n",
        "    df.drop(i, axis=1, inplace=True)\n",
        "  return df"
      ]
    },
    {
      "cell_type": "code",
      "execution_count": null,
      "metadata": {
        "id": "Jmsmnt82dUN7"
      },
      "outputs": [],
      "source": [
        "HdfX = split_complex_numbers(complex_col,trainHx)"
      ]
    },
    {
      "cell_type": "markdown",
      "metadata": {
        "id": "rqBfsyr8jhMC"
      },
      "source": [
        "fault data"
      ]
    },
    {
      "cell_type": "code",
      "execution_count": null,
      "metadata": {
        "id": "21w90x4_poHf"
      },
      "outputs": [],
      "source": [
        "fu1,fu2,fu3,fu4 = extract_mean(xfTrain)\n",
        "fm1,fm2,fm3,fm4 = extract_max(xfTrain)\n",
        "fn1,fn2,fn3,fn4 = extract_min(xfTrain)\n",
        "fud1,fud2,fud3,fud4,fud5,fud6 = extract_diff(fu1,fu2,fu3,fu4)\n",
        "fmd1,fmd2,fmd3,fmd4,fmd5,fmd6 = extract_diff(fm1,fm2,fm3,fm4)\n",
        "fnd1,fnd2,fnd3,fnd4,fnd5,fnd6 = extract_diff(fn1,fn2,fn3,fn4)\n",
        "F_features_25 = extract_feature_25(fu1,fu2,fu3,fu4,fm1,fm2,fm3,fm4,fn1,fn2,fn3,fn4,fud1,fud2,fud3,fud4,fud5,fud6,fmd1,fmd2,fmd3,fmd5,fnd1,fnd3,fnd5)"
      ]
    },
    {
      "cell_type": "code",
      "execution_count": null,
      "metadata": {
        "id": "JaE1Zkotej7p"
      },
      "outputs": [],
      "source": [
        "trainFx = pd.DataFrame()\n",
        "trainFx['rms'] = extract_rms(xfTrain)\n",
        "trainFx['energy'] = extract_energy(xfTrain)\n",
        "trainFx['skewness'] = extract_skewness(xfTrain)\n",
        "trainFx['kurtosis'] = extract_kurtosis(xfTrain)\n",
        "trainFx['crestFactor'] = extract_crest_factor(xfTrain)\n",
        "trainFx['ShannonEntropy'] = shannon_entropy(xfTrain)\n",
        "trainFx['LogEnergyEntropy'] = log_energy_entropy(xfTrain)\n",
        "trainFx['LogCovariance'] = log_covariance_features(np.array(F_features_25))"
      ]
    },
    {
      "cell_type": "code",
      "execution_count": null,
      "metadata": {
        "id": "0uS9SVogg0D-"
      },
      "outputs": [],
      "source": [
        "trainFx[['lc1','lc2','lc3','lc4','lc5','lc6','lc7','lc8','lc9','lc10','lc11','lc12','lc13','lc14','lc15']] = pd.DataFrame(trainFx['LogCovariance'].tolist())\n",
        "trainFx.drop('LogCovariance', axis=1, inplace=True)"
      ]
    },
    {
      "cell_type": "code",
      "execution_count": null,
      "metadata": {
        "id": "FAW5JhPKjG5k"
      },
      "outputs": [],
      "source": [
        "FdfX = split_complex_numbers(complex_col,trainFx)"
      ]
    },
    {
      "cell_type": "code",
      "execution_count": null,
      "metadata": {
        "colab": {
          "base_uri": "https://localhost:8080/"
        },
        "id": "ahmCHaGbjtnY",
        "outputId": "648a75eb-a8f0-4322-c92e-98594c2da522"
      },
      "outputs": [
        {
          "name": "stdout",
          "output_type": "stream",
          "text": [
            "(71, 37) (107, 37)\n"
          ]
        }
      ],
      "source": [
        "print(HdfX.shape,FdfX.shape)"
      ]
    },
    {
      "cell_type": "code",
      "execution_count": null,
      "metadata": {
        "id": "KGeDVm2_j1v4"
      },
      "outputs": [],
      "source": [
        "Hy = np.zeros(71, dtype='int')\n",
        "Fy = np.zeros(107, dtype='int')+1"
      ]
    },
    {
      "cell_type": "markdown",
      "metadata": {
        "id": "YzTkg_zGkVnu"
      },
      "source": [
        "I will use the test data in the end\n",
        "\n",
        "For now will divide this into two :)\n",
        "\n",
        "\n"
      ]
    },
    {
      "cell_type": "code",
      "execution_count": null,
      "metadata": {
        "id": "QST6NQ94k5Tb"
      },
      "outputs": [],
      "source": [
        "HdfX_train = HdfX[:55]\n",
        "HdfX_test = HdfX[55:]\n",
        "\n",
        "FdfX_train = FdfX[:87]\n",
        "FdfX_test = FdfX[87:]\n",
        "\n",
        "Hy_train = Hy[:55]\n",
        "Hy_test = Hy[55:]\n",
        "\n",
        "Fy_train = Fy[:87]\n",
        "Fy_test = Fy[87:]"
      ]
    },
    {
      "cell_type": "code",
      "execution_count": null,
      "metadata": {
        "id": "NThr8LJBlgXY"
      },
      "outputs": [],
      "source": [
        "trainX = pd.concat([HdfX_train,FdfX_train], axis=0)\n",
        "testX = pd.concat([HdfX_test,FdfX_test], axis=0)\n",
        "trainy = np.concatenate((Hy_train,Fy_train))\n",
        "testy = np.concatenate((Hy_test,Fy_test))"
      ]
    },
    {
      "cell_type": "code",
      "execution_count": null,
      "metadata": {
        "id": "LgBldsNZt2Z6"
      },
      "outputs": [],
      "source": [
        "full_trainX = pd.concat([HdfX,FdfX], axis=0)\n",
        "full_trainy = np.concatenate((Hy,Fy))"
      ]
    },
    {
      "cell_type": "code",
      "execution_count": null,
      "metadata": {
        "id": "r-MCNStepMge"
      },
      "outputs": [],
      "source": [
        "# xhTest, xfTest ----- True test sets"
      ]
    },
    {
      "cell_type": "code",
      "execution_count": null,
      "metadata": {
        "id": "jyQWD9Lrp2SO"
      },
      "outputs": [],
      "source": [
        "xhTest_mmm = [None]*25\n",
        "xfTest_mmm = [None]*25"
      ]
    },
    {
      "cell_type": "code",
      "execution_count": null,
      "metadata": {
        "id": "vK2IKzbyqKFC"
      },
      "outputs": [],
      "source": [
        "thu1,thu2,thu3,thu4 = extract_mean(xhTest)\n",
        "thm1,thm2,thm3,thm4 = extract_max(xhTest)\n",
        "thn1,thn2,thn3,thn4 = extract_min(xhTest)\n",
        "thud1,thud2,thud3,thud4,thud5,thud6 = extract_diff(thu1,thu2,thu3,thu4)\n",
        "thmd1,thmd2,thmd3,thmd4,thmd5,thmd6 = extract_diff(thm1,thm2,thm3,thm4)\n",
        "thnd1,thnd2,thnd3,thnd4,thnd5,thnd6 = extract_diff(thn1,thn2,thn3,thn4)\n",
        "testH_features_25 = extract_feature_25(thu1,thu2,thu3,thu4,thm1,thm2,thm3,thm4,thn1,thn2,thn3,thn4,thud1,thud2,thud3,thud4,thud5,thud6,thmd1,thmd2,thmd3,thmd5,thnd1,thnd3,thnd5)"
      ]
    },
    {
      "cell_type": "code",
      "execution_count": null,
      "metadata": {
        "id": "zZ17eAr_pVZF"
      },
      "outputs": [],
      "source": [
        "tfu1,tfu2,tfu3,tfu4 = extract_mean(xfTest)\n",
        "tfm1,tfm2,tfm3,tfm4 = extract_max(xfTest)\n",
        "tfn1,tfn2,tfn3,tfn4 = extract_min(xfTest)\n",
        "tfud1,tfud2,tfud3,tfud4,tfud5,tfud6 = extract_diff(tfu1,tfu2,tfu3,tfu4)\n",
        "tfmd1,tfmd2,tfmd3,tfmd4,tfmd5,tfmd6 = extract_diff(tfm1,tfm2,tfm3,tfm4)\n",
        "tfnd1,tfnd2,tfnd3,tfnd4,tfnd5,tfnd6 = extract_diff(tfn1,tfn2,tfn3,tfn4)\n",
        "testF_features_25 = extract_feature_25(tfu1,tfu2,tfu3,tfu4,tfm1,tfm2,tfm3,tfm4,tfn1,tfn2,tfn3,tfn4,tfud1,tfud2,tfud3,tfud4,tfud5,tfud6,tfmd1,tfmd2,tfmd3,tfmd5,tfnd1,tfnd3,tfnd5)"
      ]
    },
    {
      "cell_type": "code",
      "execution_count": null,
      "metadata": {
        "id": "iMkAYx05r-0z"
      },
      "outputs": [],
      "source": [
        "testFx = pd.DataFrame()\n",
        "testFx['rms'] = extract_rms(xfTest)\n",
        "testFx['energy'] = extract_energy(xfTest)\n",
        "testFx['skewness'] = extract_skewness(xfTest)\n",
        "testFx['kurtosis'] = extract_kurtosis(xfTest)\n",
        "testFx['crestFactor'] = extract_crest_factor(xfTest)\n",
        "testFx['ShannonEntropy'] = shannon_entropy(xfTest)\n",
        "testFx['LogEnergyEntropy'] = log_energy_entropy(xfTest)\n",
        "testFx['LogCovariance'] = log_covariance_features(np.array(testF_features_25))\n",
        "testFx[['lc1','lc2','lc3','lc4','lc5','lc6','lc7','lc8','lc9','lc10','lc11','lc12','lc13','lc14','lc15']] = pd.DataFrame(testFx['LogCovariance'].tolist())\n",
        "testFx.drop('LogCovariance', axis=1, inplace=True)\n",
        "test_FdfX = split_complex_numbers(complex_col,testFx)"
      ]
    },
    {
      "cell_type": "code",
      "execution_count": null,
      "metadata": {
        "id": "shmeKRzbsF1c"
      },
      "outputs": [],
      "source": [
        "testhx = pd.DataFrame()\n",
        "testhx['rms'] = extract_rms(xhTest)\n",
        "testhx['energy'] = extract_energy(xhTest)\n",
        "testhx['skewness'] = extract_skewness(xhTest)\n",
        "testhx['kurtosis'] = extract_kurtosis(xhTest)\n",
        "testhx['crestFactor'] = extract_crest_factor(xhTest)\n",
        "testhx['ShannonEntropy'] = shannon_entropy(xhTest)\n",
        "testhx['LogEnergyEntropy'] = log_energy_entropy(xhTest)\n",
        "testhx['LogCovariance'] = log_covariance_features(np.array(testH_features_25))\n",
        "testhx[['lc1','lc2','lc3','lc4','lc5','lc6','lc7','lc8','lc9','lc10','lc11','lc12','lc13','lc14','lc15']] = pd.DataFrame(testhx['LogCovariance'].tolist())\n",
        "testhx.drop('LogCovariance', axis=1, inplace=True)\n",
        "test_hdfX = split_complex_numbers(complex_col,testhx)"
      ]
    },
    {
      "cell_type": "code",
      "execution_count": null,
      "metadata": {
        "id": "7AIdEfVYs6-u"
      },
      "outputs": [],
      "source": [
        "y_test_H = np.zeros(len(test_hdfX), dtype='int')\n",
        "y_test_F = np.zeros(len(test_FdfX), dtype='int') + 1"
      ]
    },
    {
      "cell_type": "code",
      "execution_count": null,
      "metadata": {
        "id": "Vb_IqSYGtTXa"
      },
      "outputs": [],
      "source": [
        "original_testX = pd.concat([test_hdfX,test_FdfX], axis=0)\n",
        "original_testy = np.concatenate((y_test_H,y_test_F))"
      ]
    },
    {
      "cell_type": "markdown",
      "metadata": {
        "id": "xSqqewt_nbCt"
      },
      "source": [
        "## Feature Selection"
      ]
    },
    {
      "cell_type": "markdown",
      "metadata": {
        "id": "yKycg5IrndtF"
      },
      "source": [
        "## Model Training"
      ]
    },
    {
      "cell_type": "code",
      "execution_count": null,
      "metadata": {
        "id": "EORNxjWpnH2z"
      },
      "outputs": [],
      "source": [
        "names = [\n",
        "    \"Nearest Neighbors\",\n",
        "    \"Linear SVM\",\n",
        "    \"RBF SVM\",\n",
        "    \"Gaussian Process\",\n",
        "    \"Decision Tree\",\n",
        "    \"Random Forest\",\n",
        "    \"Neural Net\",\n",
        "    \"AdaBoost\",\n",
        "    \"Naive Bayes\",\n",
        "    \"QDA\",\n",
        "]"
      ]
    },
    {
      "cell_type": "code",
      "execution_count": null,
      "metadata": {
        "id": "EeL6r6LAnYxz"
      },
      "outputs": [],
      "source": [
        "from matplotlib.colors import ListedColormap\n",
        "\n",
        "from sklearn.datasets import make_circles, make_classification, make_moons\n",
        "from sklearn.discriminant_analysis import QuadraticDiscriminantAnalysis\n",
        "from sklearn.ensemble import AdaBoostClassifier, RandomForestClassifier\n",
        "from sklearn.gaussian_process import GaussianProcessClassifier\n",
        "from sklearn.gaussian_process.kernels import RBF\n",
        "from sklearn.inspection import DecisionBoundaryDisplay\n",
        "from sklearn.model_selection import train_test_split\n",
        "from sklearn.naive_bayes import GaussianNB\n",
        "from sklearn.neighbors import KNeighborsClassifier\n",
        "from sklearn.neural_network import MLPClassifier\n",
        "from sklearn.pipeline import make_pipeline\n",
        "from sklearn.preprocessing import StandardScaler\n",
        "from sklearn.svm import SVC\n",
        "from sklearn.tree import DecisionTreeClassifier"
      ]
    },
    {
      "cell_type": "code",
      "execution_count": null,
      "metadata": {
        "id": "5N6N4tSVnnT-"
      },
      "outputs": [],
      "source": [
        "classifiers = [\n",
        "    KNeighborsClassifier(3),\n",
        "    SVC(kernel=\"linear\", C=0.025, random_state=42),\n",
        "    SVC(gamma=2, C=1, random_state=42),\n",
        "    GaussianProcessClassifier(1.0 * RBF(1.0), random_state=42),\n",
        "    DecisionTreeClassifier(max_depth=5, random_state=42),\n",
        "    RandomForestClassifier(\n",
        "        max_depth=5, n_estimators=10, max_features=1, random_state=42\n",
        "    ),\n",
        "    MLPClassifier(alpha=1, max_iter=1000, random_state=42),\n",
        "    AdaBoostClassifier(algorithm=\"SAMME\", random_state=42),\n",
        "    GaussianNB(),\n",
        "    QuadraticDiscriminantAnalysis(),\n",
        "]"
      ]
    },
    {
      "cell_type": "code",
      "execution_count": null,
      "metadata": {
        "colab": {
          "base_uri": "https://localhost:8080/"
        },
        "id": "_AO1AvxVnwBf",
        "outputId": "91c9d1db-e034-4fa7-f172-defae07eb700"
      },
      "outputs": [
        {
          "name": "stdout",
          "output_type": "stream",
          "text": [
            "Nearest Neighbors\n",
            "[0 1 0 0 0 0 0 1 1 1 0 0 0 0 0 1 0 1 1 1 1 1 1 1 1 1 1 1 1 1 1 1 1 1 1 1 1\n",
            " 1 1 1 1 1 1]\n",
            "Score :  0.8837209302325582\n",
            "\n",
            "\n",
            "Linear SVM\n",
            "[0 0 0 0 0 0 0 0 0 0 0 0 0 0 0 0 0 1 1 1 1 1 1 1 1 1 1 1 1 1 1 1 1 1 1 1 1\n",
            " 1 1 1 1 1 1]\n",
            "Score :  1.0\n",
            "\n",
            "\n",
            "RBF SVM\n",
            "[0 1 1 1 0 1 1 1 1 1 1 1 1 1 1 1 1 1 1 1 1 1 1 1 1 1 1 1 1 1 1 1 1 1 1 1 1\n",
            " 1 1 1 1 1 1]\n",
            "Score :  0.6511627906976745\n",
            "\n",
            "\n",
            "Gaussian Process\n",
            "[0 0 0 0 0 0 0 0 0 0 0 0 0 0 0 0 0 1 1 1 1 1 1 1 1 1 1 1 1 1 1 1 1 1 1 1 1\n",
            " 1 1 1 1 1 1]\n",
            "Score :  1.0\n",
            "\n",
            "\n",
            "Decision Tree\n",
            "[0 0 0 0 0 0 0 0 0 1 1 1 1 0 1 0 0 1 1 1 1 1 1 1 1 1 1 1 1 1 1 1 1 1 1 1 1\n",
            " 1 1 1 1 1 1]\n",
            "Score :  0.8837209302325582\n",
            "\n",
            "\n",
            "Random Forest\n",
            "[0 0 0 0 0 0 0 0 0 0 0 0 0 0 0 0 0 1 1 1 1 1 1 1 1 1 1 1 1 1 1 1 1 1 1 1 1\n",
            " 1 1 1 1 1 1]\n",
            "Score :  1.0\n",
            "\n",
            "\n",
            "Neural Net\n",
            "[0 0 0 0 0 0 0 0 0 0 0 0 0 0 0 0 0 1 1 1 1 1 1 1 1 1 1 1 1 1 1 1 1 1 1 1 1\n",
            " 1 1 1 1 1 1]\n",
            "Score :  1.0\n",
            "\n",
            "\n",
            "AdaBoost\n",
            "[0 0 0 0 0 0 0 0 0 1 1 1 1 0 0 0 0 1 1 1 1 1 1 1 1 1 1 1 1 1 1 1 1 1 1 1 1\n",
            " 1 1 1 1 1 1]\n",
            "Score :  0.9069767441860465\n",
            "\n",
            "\n",
            "Naive Bayes\n",
            "[0 0 0 0 0 0 0 0 0 0 0 0 0 0 0 0 0 1 1 1 1 1 1 1 1 1 1 1 1 1 1 1 1 1 1 1 1\n",
            " 1 1 1 1 1 1]\n",
            "Score :  1.0\n",
            "\n",
            "\n",
            "QDA\n",
            "[0 0 0 0 0 0 0 0 0 0 0 0 0 0 0 0 0 1 1 1 1 1 1 1 1 1 1 1 1 1 1 1 1 1 1 1 1\n",
            " 1 1 1 1 1 1]\n",
            "Score :  1.0\n",
            "\n",
            "\n"
          ]
        }
      ],
      "source": [
        "for name, clf in zip(names, classifiers):\n",
        "        print(name)\n",
        "        clf = make_pipeline(StandardScaler(), clf)\n",
        "        clf.fit(full_trainX, full_trainy)\n",
        "        y_pred = clf.predict(original_testX)\n",
        "        print(y_pred)\n",
        "        score = clf.score(original_testX, original_testy)\n",
        "        print(\"Score : \",score)\n",
        "        print(\"\\n\")"
      ]
    },
    {
      "cell_type": "code",
      "execution_count": null,
      "metadata": {
        "id": "LezonJdjoRo6"
      },
      "outputs": [],
      "source": [
        "# Linear SVM, Gaussian Process, Random Forest, Neural Net, Naive Bayes, QDA\n",
        "\n",
        "# these algorithms gave 100% accuracy"
      ]
    }
  ],
  "metadata": {
    "colab": {
      "provenance": []
    },
    "kernelspec": {
      "display_name": "Python 3",
      "name": "python3"
    },
    "language_info": {
      "codemirror_mode": {
        "name": "ipython",
        "version": 3
      },
      "file_extension": ".py",
      "mimetype": "text/x-python",
      "name": "python",
      "nbconvert_exporter": "python",
      "pygments_lexer": "ipython3",
      "version": "3.10.12"
    }
  },
  "nbformat": 4,
  "nbformat_minor": 0
}
